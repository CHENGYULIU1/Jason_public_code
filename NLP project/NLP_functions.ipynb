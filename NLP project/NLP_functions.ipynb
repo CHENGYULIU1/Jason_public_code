{
 "cells": [
  {
   "cell_type": "markdown",
   "metadata": {},
   "source": [
    "## Simple functions "
   ]
  },
  {
   "cell_type": "markdown",
   "metadata": {},
   "source": [
    "### Tokenization"
   ]
  },
  {
   "cell_type": "markdown",
   "metadata": {},
   "source": [
    "** way 1  **"
   ]
  },
  {
   "cell_type": "code",
   "execution_count": 2,
   "metadata": {},
   "outputs": [],
   "source": [
    "def word_count(string):\n",
    "    # Return a dict of the counts of the words in the given string\n",
    "    \n",
    "    words = dict()\n",
    "    for word in string.split():\n",
    "        \n",
    "        if word in words:\n",
    "            count = words[word]\n",
    "            count = count + 1\n",
    "            words[word] = count\n",
    "        else:\n",
    "            words[word] = 1\n",
    "    return words"
   ]
  },
  {
   "cell_type": "code",
   "execution_count": 3,
   "metadata": {},
   "outputs": [
    {
     "name": "stdout",
     "output_type": "stream",
     "text": [
      "{'Carl': 2, 'knows': 2, 'Jason': 2, 'and': 1}\n"
     ]
    }
   ],
   "source": [
    "print(word_count(\"Carl knows Jason and Jason knows Carl\"))"
   ]
  },
  {
   "cell_type": "markdown",
   "metadata": {},
   "source": [
    "** way 2 **"
   ]
  },
  {
   "cell_type": "code",
   "execution_count": 5,
   "metadata": {},
   "outputs": [],
   "source": [
    "def word_count1(string):\n",
    "    # Return a dict of the counts of the words in the given string\n",
    "    \n",
    "    words = dict()\n",
    "    for word in string.split():\n",
    "        \n",
    "        words[word] = words.get(word,0)+1\n",
    "\n",
    "    return words"
   ]
  },
  {
   "cell_type": "code",
   "execution_count": 12,
   "metadata": {},
   "outputs": [
    {
     "name": "stdout",
     "output_type": "stream",
     "text": [
      "{'carl': 2, 'knows': 2, 'jason': 2, 'and': 1}\n"
     ]
    }
   ],
   "source": [
    "print(word_count1(\"Carl knows Jason, and Jason knows Carl\"))"
   ]
  },
  {
   "cell_type": "markdown",
   "metadata": {},
   "source": [
    "***"
   ]
  },
  {
   "cell_type": "markdown",
   "metadata": {},
   "source": [
    "### Clean the punctuation"
   ]
  },
  {
   "cell_type": "code",
   "execution_count": 9,
   "metadata": {},
   "outputs": [],
   "source": [
    "def clean(word):\n",
    "    # Return the word in the given string with all none punctuation\n",
    "    # and non-letters removed and all letters lowercase\n",
    "    \n",
    "    word = word.lower()\n",
    "    chars = [c for c in word if c >= \"a\"\n",
    "            and c <= \"z\"]\n",
    "    \n",
    "    return \"\".join(chars)\n",
    "\n",
    "\n",
    "def word_count1(string):\n",
    "    # Return a dict of the counts of the words in the given string\n",
    "    \n",
    "    words = dict()\n",
    "    for word in string.split():\n",
    "        \n",
    "        word = clean(word)\n",
    "        words[word] = words.get(word,0)+1\n",
    "\n",
    "    return words"
   ]
  },
  {
   "cell_type": "code",
   "execution_count": 11,
   "metadata": {},
   "outputs": [
    {
     "name": "stdout",
     "output_type": "stream",
     "text": [
      "{'carl': 2, 'knows': 2, 'jason': 2, 'and': 1}\n"
     ]
    }
   ],
   "source": [
    "print(word_count1(\"Carl knows Jason, and Jason knows Carl\"))"
   ]
  },
  {
   "cell_type": "markdown",
   "metadata": {},
   "source": [
    "***"
   ]
  },
  {
   "cell_type": "markdown",
   "metadata": {},
   "source": [
    "### Improved word_counts so it can handle multi-line strings"
   ]
  },
  {
   "cell_type": "code",
   "execution_count": 13,
   "metadata": {},
   "outputs": [],
   "source": [
    "def clean(word):\n",
    "    # Return the word in the given string with all none punctuation\n",
    "    # and non-letters removed and all letters lowercase\n",
    "    \n",
    "    word = word.lower()\n",
    "    chars = [c for c in word if c >= \"a\"\n",
    "            and c <= \"z\"]\n",
    "    \n",
    "    return \"\".join(chars)\n",
    "\n",
    "\n",
    "def word_count1(string):\n",
    "    # Return a dict of the counts of the words in the given string\n",
    "    \n",
    "    words = dict()\n",
    "    for line in string.split(\"\\n\"):\n",
    "        for word in line.split():\n",
    "            word = clean(word)\n",
    "            words[word] = words.get(word,0)+1\n",
    "\n",
    "    return words"
   ]
  },
  {
   "cell_type": "code",
   "execution_count": 14,
   "metadata": {},
   "outputs": [
    {
     "name": "stdout",
     "output_type": "stream",
     "text": [
      "{'carl': 3, 'knows': 3, 'jason': 3, 'and': 3, 'amanda': 1, 'both': 1}\n"
     ]
    }
   ],
   "source": [
    "print(word_count1(\"Carl knows Jason, and Jason knows Carl \\n and Amanda knows both Jason and Carl\"))"
   ]
  },
  {
   "cell_type": "markdown",
   "metadata": {},
   "source": [
    "***"
   ]
  },
  {
   "cell_type": "markdown",
   "metadata": {},
   "source": [
    "### Improved to ignore the common words [\"and\", \"a\", \"an\", \"the\"]"
   ]
  },
  {
   "cell_type": "code",
   "execution_count": 15,
   "metadata": {},
   "outputs": [],
   "source": [
    "def clean(word):\n",
    "    # Return the word in the given string with all none punctuation\n",
    "    # and non-letters removed and all letters lowercase\n",
    "    \n",
    "    word = word.lower()\n",
    "    chars = [c for c in word if c >= \"a\"\n",
    "            and c <= \"z\"]\n",
    "    \n",
    "    return \"\".join(chars)\n",
    "\n",
    "\n",
    "def word_count1(string):\n",
    "    # Return a dict of the counts of the words in the given string\n",
    "    \n",
    "    words = dict()\n",
    "    for line in string.split(\"\\n\"):\n",
    "        for word in line.split():\n",
    "            word = clean(word)\n",
    "            words[word] = words.get(word,0)+1\n",
    "\n",
    "    return words"
   ]
  },
  {
   "cell_type": "code",
   "execution_count": 16,
   "metadata": {},
   "outputs": [],
   "source": [
    "email = \"Carl knows Jason, and Jason knows Carl \\n and Amanda knows both Jason and Carl\""
   ]
  },
  {
   "cell_type": "code",
   "execution_count": 21,
   "metadata": {},
   "outputs": [
    {
     "data": {
      "text/plain": [
       "{'amanda': 1, 'and': 3, 'both': 1, 'carl': 3, 'jason': 3, 'knows': 3}"
      ]
     },
     "execution_count": 21,
     "metadata": {},
     "output_type": "execute_result"
    }
   ],
   "source": [
    "words = word_count1(email)\n",
    "words"
   ]
  },
  {
   "cell_type": "code",
   "execution_count": 22,
   "metadata": {},
   "outputs": [
    {
     "name": "stdout",
     "output_type": "stream",
     "text": [
      "{'carl': 3, 'knows': 3, 'jason': 3, 'amanda': 1, 'both': 1}\n"
     ]
    }
   ],
   "source": [
    "for word in [\"and\", \"a\", \"an\", \"the\"]:\n",
    "    words.pop(word, None)\n",
    "print(words)"
   ]
  }
 ],
 "metadata": {
  "kernelspec": {
   "display_name": "Python 3",
   "language": "python",
   "name": "python3"
  },
  "language_info": {
   "codemirror_mode": {
    "name": "ipython",
    "version": 3
   },
   "file_extension": ".py",
   "mimetype": "text/x-python",
   "name": "python",
   "nbconvert_exporter": "python",
   "pygments_lexer": "ipython3",
   "version": "3.6.4"
  }
 },
 "nbformat": 4,
 "nbformat_minor": 2
}
