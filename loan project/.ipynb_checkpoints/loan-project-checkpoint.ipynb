{
 "cells": [
  {
   "cell_type": "markdown",
   "metadata": {},
   "source": [
    "## Data extraction"
   ]
  },
  {
   "cell_type": "markdown",
   "metadata": {},
   "source": [
    "#### Context"
   ]
  },
  {
   "cell_type": "markdown",
   "metadata": {},
   "source": [
    "This analysis is a loan data provided by https://www.kaggle.com/zhijinzhai/loandata.\n",
    "\n",
    "Base on the webiste:\n",
    "This data set includes customers who have paid off their loans, who have been past due and put into collection without paying back their loan and interests, and who have paid off only after they were put in collection. The financial product is a bullet loan that customers should pay off all of their loan debt in just one time by the end of the term, instead of an installment schedule. Of course, they could pay off earlier than their pay schedule.\n",
    "\n",
    "___"
   ]
  },
  {
   "cell_type": "markdown",
   "metadata": {},
   "source": [
    "#### Content"
   ]
  },
  {
   "cell_type": "markdown",
   "metadata": {},
   "source": [
    "Loan_id - A unique loan number assigned to each loan customers\n",
    "\n",
    "Loan_status - Whether a loan is paid off, in collection, new customer yet to payoff, or paid off after the collection efforts\n",
    "\n",
    "Principal - Basic principal loan amount at the origination\n",
    "\n",
    "terms - Can be weekly (7 days), biweekly, and monthly payoff schedule\n",
    "\n",
    "Effective_date - When the loan got originated and took effects\n",
    "\n",
    "Due_date - Since it’s one-time payoff schedule, each loan has one single due date\n",
    "\n",
    "Paidoff_time - The actual time a customer pays off the loan\n",
    "\n",
    "Pastdue_days - How many days a loan has been past due\n",
    "\n",
    "Age, education, gender A customer’s basic demographic information\n",
    "\n",
    "___"
   ]
  },
  {
   "cell_type": "markdown",
   "metadata": {},
   "source": [
    "**Describe what questions you intend to answer with the dataset**\n",
    "\n",
    "I intend to answer the following questions:\n",
    "* Do women tend to pay off their loans more reliably than men?\n",
    "* Do women tend to take out larger or smaller loans than men?\n",
    "* Do older people tend to pay off their loans more reliably?\n",
    "* Do people have higher education tend to payy off their loans more reliably?\n",
    "* What's the term of loan people usually choose?\n",
    "* Do males or females tend to borrow more?\n",
    "* Do higher education people borrow more? \n",
    "* Which age range borrows more? \n",
    "* Of the loans that people usually pay off, what are the terms of those loans?\n",
    "* What is the maximum daily re-payment people manage to pay back?\n",
    "___"
   ]
  },
  {
   "cell_type": "markdown",
   "metadata": {},
   "source": [
    "**Import some libraries we ususly use when we are analyzing the dataset.**"
   ]
  },
  {
   "cell_type": "code",
   "execution_count": 2,
   "metadata": {},
   "outputs": [],
   "source": [
    "import numpy as np\n",
    "import pandas as pd\n",
    "import seaborn as sns\n",
    "import matplotlib.pyplot as plt\n",
    "%matplotlib inline\n",
    "\n",
    "sns.set_style('whitegrid')"
   ]
  },
  {
   "cell_type": "markdown",
   "metadata": {},
   "source": [
    "___"
   ]
  },
  {
   "cell_type": "markdown",
   "metadata": {},
   "source": [
    "**Loading data**"
   ]
  },
  {
   "cell_type": "code",
   "execution_count": 3,
   "metadata": {},
   "outputs": [],
   "source": [
    "loandf = pd.read_csv('Loan_payments data.csv')"
   ]
  },
  {
   "cell_type": "code",
   "execution_count": 652,
   "metadata": {
    "scrolled": true
   },
   "outputs": [
    {
     "name": "stdout",
     "output_type": "stream",
     "text": [
      "There are 500 datapoints with 11 dimensions.\n"
     ]
    }
   ],
   "source": [
    "print(f'There are {loandf.shape[0]:d} datapoints with {loandf.shape[1]} dimensions.')"
   ]
  },
  {
   "cell_type": "code",
   "execution_count": 653,
   "metadata": {
    "scrolled": true
   },
   "outputs": [
    {
     "data": {
      "text/html": [
       "<div>\n",
       "<style scoped>\n",
       "    .dataframe tbody tr th:only-of-type {\n",
       "        vertical-align: middle;\n",
       "    }\n",
       "\n",
       "    .dataframe tbody tr th {\n",
       "        vertical-align: top;\n",
       "    }\n",
       "\n",
       "    .dataframe thead th {\n",
       "        text-align: right;\n",
       "    }\n",
       "</style>\n",
       "<table border=\"1\" class=\"dataframe\">\n",
       "  <thead>\n",
       "    <tr style=\"text-align: right;\">\n",
       "      <th></th>\n",
       "      <th>Loan_ID</th>\n",
       "      <th>loan_status</th>\n",
       "      <th>Principal</th>\n",
       "      <th>terms</th>\n",
       "      <th>effective_date</th>\n",
       "      <th>due_date</th>\n",
       "      <th>paid_off_time</th>\n",
       "      <th>past_due_days</th>\n",
       "      <th>age</th>\n",
       "      <th>education</th>\n",
       "      <th>Gender</th>\n",
       "    </tr>\n",
       "  </thead>\n",
       "  <tbody>\n",
       "    <tr>\n",
       "      <th>0</th>\n",
       "      <td>xqd20166231</td>\n",
       "      <td>PAIDOFF</td>\n",
       "      <td>1000</td>\n",
       "      <td>30</td>\n",
       "      <td>9/8/2016</td>\n",
       "      <td>10/7/2016</td>\n",
       "      <td>9/14/2016 19:31</td>\n",
       "      <td>NaN</td>\n",
       "      <td>45</td>\n",
       "      <td>High School or Below</td>\n",
       "      <td>male</td>\n",
       "    </tr>\n",
       "    <tr>\n",
       "      <th>1</th>\n",
       "      <td>xqd20168902</td>\n",
       "      <td>PAIDOFF</td>\n",
       "      <td>1000</td>\n",
       "      <td>30</td>\n",
       "      <td>9/8/2016</td>\n",
       "      <td>10/7/2016</td>\n",
       "      <td>10/7/2016 9:00</td>\n",
       "      <td>NaN</td>\n",
       "      <td>50</td>\n",
       "      <td>Bechalor</td>\n",
       "      <td>female</td>\n",
       "    </tr>\n",
       "    <tr>\n",
       "      <th>2</th>\n",
       "      <td>xqd20160003</td>\n",
       "      <td>PAIDOFF</td>\n",
       "      <td>1000</td>\n",
       "      <td>30</td>\n",
       "      <td>9/8/2016</td>\n",
       "      <td>10/7/2016</td>\n",
       "      <td>9/25/2016 16:58</td>\n",
       "      <td>NaN</td>\n",
       "      <td>33</td>\n",
       "      <td>Bechalor</td>\n",
       "      <td>female</td>\n",
       "    </tr>\n",
       "    <tr>\n",
       "      <th>3</th>\n",
       "      <td>xqd20160004</td>\n",
       "      <td>PAIDOFF</td>\n",
       "      <td>1000</td>\n",
       "      <td>15</td>\n",
       "      <td>9/8/2016</td>\n",
       "      <td>9/22/2016</td>\n",
       "      <td>9/22/2016 20:00</td>\n",
       "      <td>NaN</td>\n",
       "      <td>27</td>\n",
       "      <td>college</td>\n",
       "      <td>male</td>\n",
       "    </tr>\n",
       "    <tr>\n",
       "      <th>4</th>\n",
       "      <td>xqd20160005</td>\n",
       "      <td>PAIDOFF</td>\n",
       "      <td>1000</td>\n",
       "      <td>30</td>\n",
       "      <td>9/9/2016</td>\n",
       "      <td>10/8/2016</td>\n",
       "      <td>9/23/2016 21:36</td>\n",
       "      <td>NaN</td>\n",
       "      <td>28</td>\n",
       "      <td>college</td>\n",
       "      <td>female</td>\n",
       "    </tr>\n",
       "  </tbody>\n",
       "</table>\n",
       "</div>"
      ],
      "text/plain": [
       "       Loan_ID loan_status  Principal  terms effective_date   due_date  \\\n",
       "0  xqd20166231     PAIDOFF       1000     30       9/8/2016  10/7/2016   \n",
       "1  xqd20168902     PAIDOFF       1000     30       9/8/2016  10/7/2016   \n",
       "2  xqd20160003     PAIDOFF       1000     30       9/8/2016  10/7/2016   \n",
       "3  xqd20160004     PAIDOFF       1000     15       9/8/2016  9/22/2016   \n",
       "4  xqd20160005     PAIDOFF       1000     30       9/9/2016  10/8/2016   \n",
       "\n",
       "     paid_off_time  past_due_days  age             education  Gender  \n",
       "0  9/14/2016 19:31            NaN   45  High School or Below    male  \n",
       "1   10/7/2016 9:00            NaN   50              Bechalor  female  \n",
       "2  9/25/2016 16:58            NaN   33              Bechalor  female  \n",
       "3  9/22/2016 20:00            NaN   27               college    male  \n",
       "4  9/23/2016 21:36            NaN   28               college  female  "
      ]
     },
     "execution_count": 653,
     "metadata": {},
     "output_type": "execute_result"
    }
   ],
   "source": [
    "loandf.head(5)"
   ]
  },
  {
   "cell_type": "markdown",
   "metadata": {},
   "source": [
    "## Data cleanup"
   ]
  },
  {
   "cell_type": "markdown",
   "metadata": {},
   "source": [
    "**Treating/Detecting Outliers**"
   ]
  },
  {
   "cell_type": "code",
   "execution_count": 4,
   "metadata": {
    "scrolled": true
   },
   "outputs": [
    {
     "data": {
      "text/plain": [
       "<matplotlib.axes._subplots.AxesSubplot at 0x1a14763668>"
      ]
     },
     "execution_count": 4,
     "metadata": {},
     "output_type": "execute_result"
    },
    {
     "data": {
      "image/png": "[encoded data removed]",
      "text/plain": [
       "<Figure size 432x288 with 1 Axes>"
      ]
     },
     "metadata": {},
     "output_type": "display_data"
    }
   ],
   "source": [
    "sns.boxplot(x=\"age\", data = loandf)"
   ]
  },
  {
   "cell_type": "code",
   "execution_count": 657,
   "metadata": {},
   "outputs": [],
   "source": [
    "outliers = loandf[loandf[\"age\"] > 47].sort_values(\"age\", ascending= False).index.tolist()"
   ]
  },
  {
   "cell_type": "code",
   "execution_count": 658,
   "metadata": {},
   "outputs": [],
   "source": [
    "loandf.drop(outliers, inplace= True)"
   ]
  },
  {
   "cell_type": "code",
   "execution_count": 659,
   "metadata": {},
   "outputs": [
    {
     "data": {
      "text/plain": [
       "<matplotlib.axes._subplots.AxesSubplot at 0x1a22e836d8>"
      ]
     },
     "execution_count": 659,
     "metadata": {},
     "output_type": "execute_result"
    },
    {
     "data": {
      "image/png": "[encoded data removed]",
      "text/plain": [
       "<Figure size 432x288 with 1 Axes>"
      ]
     },
     "metadata": {},
     "output_type": "display_data"
    }
   ],
   "source": [
    "sns.boxplot(x=\"age\", data = loandf)"
   ]
  },
  {
   "cell_type": "markdown",
   "metadata": {},
   "source": [
    "No outliers after dropping the records which age is over 47"
   ]
  },
  {
   "cell_type": "markdown",
   "metadata": {},
   "source": [
    "**Treating missing values**"
   ]
  },
  {
   "cell_type": "code",
   "execution_count": 558,
   "metadata": {},
   "outputs": [
    {
     "data": {
      "text/plain": [
       "Loan_ID             0\n",
       "loan_status         0\n",
       "Principal           0\n",
       "terms               0\n",
       "effective_date      0\n",
       "due_date            0\n",
       "paid_off_time      99\n",
       "past_due_days     296\n",
       "age                 0\n",
       "education           0\n",
       "Gender              0\n",
       "dtype: int64"
      ]
     },
     "execution_count": 558,
     "metadata": {},
     "output_type": "execute_result"
    }
   ],
   "source": [
    "loandf.isnull().sum()"
   ]
  },
  {
   "cell_type": "markdown",
   "metadata": {},
   "source": [
    "It looks like **paid_off_time** and **past_due_days** have missing values"
   ]
  },
  {
   "cell_type": "code",
   "execution_count": 10,
   "metadata": {
    "scrolled": true
   },
   "outputs": [
    {
     "data": {
      "text/html": [
       "<div>\n",
       "<style scoped>\n",
       "    .dataframe tbody tr th:only-of-type {\n",
       "        vertical-align: middle;\n",
       "    }\n",
       "\n",
       "    .dataframe tbody tr th {\n",
       "        vertical-align: top;\n",
       "    }\n",
       "\n",
       "    .dataframe thead th {\n",
       "        text-align: right;\n",
       "    }\n",
       "</style>\n",
       "<table border=\"1\" class=\"dataframe\">\n",
       "  <thead>\n",
       "    <tr style=\"text-align: right;\">\n",
       "      <th></th>\n",
       "      <th>Loan_ID</th>\n",
       "      <th>loan_status</th>\n",
       "      <th>Principal</th>\n",
       "      <th>terms</th>\n",
       "      <th>effective_date</th>\n",
       "      <th>due_date</th>\n",
       "      <th>paid_off_time</th>\n",
       "      <th>past_due_days</th>\n",
       "      <th>age</th>\n",
       "      <th>education</th>\n",
       "      <th>Gender</th>\n",
       "    </tr>\n",
       "  </thead>\n",
       "  <tbody>\n",
       "    <tr>\n",
       "      <th>0</th>\n",
       "      <td>xqd20166231</td>\n",
       "      <td>PAIDOFF</td>\n",
       "      <td>1000</td>\n",
       "      <td>30</td>\n",
       "      <td>9/8/2016</td>\n",
       "      <td>10/7/2016</td>\n",
       "      <td>9/14/2016 19:31</td>\n",
       "      <td>NaN</td>\n",
       "      <td>45</td>\n",
       "      <td>High School or Below</td>\n",
       "      <td>male</td>\n",
       "    </tr>\n",
       "    <tr>\n",
       "      <th>1</th>\n",
       "      <td>xqd20168902</td>\n",
       "      <td>PAIDOFF</td>\n",
       "      <td>1000</td>\n",
       "      <td>30</td>\n",
       "      <td>9/8/2016</td>\n",
       "      <td>10/7/2016</td>\n",
       "      <td>10/7/2016 9:00</td>\n",
       "      <td>NaN</td>\n",
       "      <td>50</td>\n",
       "      <td>Bechalor</td>\n",
       "      <td>female</td>\n",
       "    </tr>\n",
       "    <tr>\n",
       "      <th>2</th>\n",
       "      <td>xqd20160003</td>\n",
       "      <td>PAIDOFF</td>\n",
       "      <td>1000</td>\n",
       "      <td>30</td>\n",
       "      <td>9/8/2016</td>\n",
       "      <td>10/7/2016</td>\n",
       "      <td>9/25/2016 16:58</td>\n",
       "      <td>NaN</td>\n",
       "      <td>33</td>\n",
       "      <td>Bechalor</td>\n",
       "      <td>female</td>\n",
       "    </tr>\n",
       "    <tr>\n",
       "      <th>3</th>\n",
       "      <td>xqd20160004</td>\n",
       "      <td>PAIDOFF</td>\n",
       "      <td>1000</td>\n",
       "      <td>15</td>\n",
       "      <td>9/8/2016</td>\n",
       "      <td>9/22/2016</td>\n",
       "      <td>9/22/2016 20:00</td>\n",
       "      <td>NaN</td>\n",
       "      <td>27</td>\n",
       "      <td>college</td>\n",
       "      <td>male</td>\n",
       "    </tr>\n",
       "    <tr>\n",
       "      <th>4</th>\n",
       "      <td>xqd20160005</td>\n",
       "      <td>PAIDOFF</td>\n",
       "      <td>1000</td>\n",
       "      <td>30</td>\n",
       "      <td>9/9/2016</td>\n",
       "      <td>10/8/2016</td>\n",
       "      <td>9/23/2016 21:36</td>\n",
       "      <td>NaN</td>\n",
       "      <td>28</td>\n",
       "      <td>college</td>\n",
       "      <td>female</td>\n",
       "    </tr>\n",
       "    <tr>\n",
       "      <th>5</th>\n",
       "      <td>xqd20160706</td>\n",
       "      <td>PAIDOFF</td>\n",
       "      <td>300</td>\n",
       "      <td>7</td>\n",
       "      <td>9/9/2016</td>\n",
       "      <td>9/15/2016</td>\n",
       "      <td>9/9/2016 13:45</td>\n",
       "      <td>NaN</td>\n",
       "      <td>35</td>\n",
       "      <td>Master or Above</td>\n",
       "      <td>male</td>\n",
       "    </tr>\n",
       "    <tr>\n",
       "      <th>6</th>\n",
       "      <td>xqd20160007</td>\n",
       "      <td>PAIDOFF</td>\n",
       "      <td>1000</td>\n",
       "      <td>30</td>\n",
       "      <td>9/9/2016</td>\n",
       "      <td>10/8/2016</td>\n",
       "      <td>10/7/2016 23:07</td>\n",
       "      <td>NaN</td>\n",
       "      <td>29</td>\n",
       "      <td>college</td>\n",
       "      <td>male</td>\n",
       "    </tr>\n",
       "    <tr>\n",
       "      <th>7</th>\n",
       "      <td>xqd20160008</td>\n",
       "      <td>PAIDOFF</td>\n",
       "      <td>1000</td>\n",
       "      <td>30</td>\n",
       "      <td>9/9/2016</td>\n",
       "      <td>10/8/2016</td>\n",
       "      <td>10/5/2016 20:33</td>\n",
       "      <td>NaN</td>\n",
       "      <td>36</td>\n",
       "      <td>college</td>\n",
       "      <td>male</td>\n",
       "    </tr>\n",
       "    <tr>\n",
       "      <th>8</th>\n",
       "      <td>xqd20160909</td>\n",
       "      <td>PAIDOFF</td>\n",
       "      <td>1000</td>\n",
       "      <td>30</td>\n",
       "      <td>9/9/2016</td>\n",
       "      <td>10/8/2016</td>\n",
       "      <td>10/8/2016 16:00</td>\n",
       "      <td>NaN</td>\n",
       "      <td>28</td>\n",
       "      <td>college</td>\n",
       "      <td>male</td>\n",
       "    </tr>\n",
       "    <tr>\n",
       "      <th>9</th>\n",
       "      <td>xqd20160010</td>\n",
       "      <td>PAIDOFF</td>\n",
       "      <td>800</td>\n",
       "      <td>15</td>\n",
       "      <td>9/10/2016</td>\n",
       "      <td>9/24/2016</td>\n",
       "      <td>9/24/2016 13:00</td>\n",
       "      <td>NaN</td>\n",
       "      <td>26</td>\n",
       "      <td>college</td>\n",
       "      <td>male</td>\n",
       "    </tr>\n",
       "    <tr>\n",
       "      <th>10</th>\n",
       "      <td>xqd20160011</td>\n",
       "      <td>PAIDOFF</td>\n",
       "      <td>300</td>\n",
       "      <td>7</td>\n",
       "      <td>9/10/2016</td>\n",
       "      <td>9/16/2016</td>\n",
       "      <td>9/11/2016 19:11</td>\n",
       "      <td>NaN</td>\n",
       "      <td>29</td>\n",
       "      <td>college</td>\n",
       "      <td>male</td>\n",
       "    </tr>\n",
       "    <tr>\n",
       "      <th>11</th>\n",
       "      <td>xqd20160012</td>\n",
       "      <td>PAIDOFF</td>\n",
       "      <td>1000</td>\n",
       "      <td>15</td>\n",
       "      <td>9/10/2016</td>\n",
       "      <td>10/9/2016</td>\n",
       "      <td>10/9/2016 16:00</td>\n",
       "      <td>NaN</td>\n",
       "      <td>39</td>\n",
       "      <td>High School or Below</td>\n",
       "      <td>male</td>\n",
       "    </tr>\n",
       "    <tr>\n",
       "      <th>12</th>\n",
       "      <td>xqd20160013</td>\n",
       "      <td>PAIDOFF</td>\n",
       "      <td>1000</td>\n",
       "      <td>30</td>\n",
       "      <td>9/10/2016</td>\n",
       "      <td>10/9/2016</td>\n",
       "      <td>10/7/2016 23:32</td>\n",
       "      <td>NaN</td>\n",
       "      <td>26</td>\n",
       "      <td>college</td>\n",
       "      <td>male</td>\n",
       "    </tr>\n",
       "    <tr>\n",
       "      <th>13</th>\n",
       "      <td>xqd20160014</td>\n",
       "      <td>PAIDOFF</td>\n",
       "      <td>900</td>\n",
       "      <td>7</td>\n",
       "      <td>9/10/2016</td>\n",
       "      <td>9/16/2016</td>\n",
       "      <td>9/13/2016 21:57</td>\n",
       "      <td>NaN</td>\n",
       "      <td>26</td>\n",
       "      <td>college</td>\n",
       "      <td>female</td>\n",
       "    </tr>\n",
       "    <tr>\n",
       "      <th>14</th>\n",
       "      <td>xqd20160015</td>\n",
       "      <td>PAIDOFF</td>\n",
       "      <td>1000</td>\n",
       "      <td>7</td>\n",
       "      <td>9/10/2016</td>\n",
       "      <td>9/16/2016</td>\n",
       "      <td>9/15/2016 14:27</td>\n",
       "      <td>NaN</td>\n",
       "      <td>27</td>\n",
       "      <td>High School or Below</td>\n",
       "      <td>male</td>\n",
       "    </tr>\n",
       "    <tr>\n",
       "      <th>15</th>\n",
       "      <td>xqd20160016</td>\n",
       "      <td>PAIDOFF</td>\n",
       "      <td>800</td>\n",
       "      <td>15</td>\n",
       "      <td>9/10/2016</td>\n",
       "      <td>9/24/2016</td>\n",
       "      <td>9/24/2016 16:00</td>\n",
       "      <td>NaN</td>\n",
       "      <td>26</td>\n",
       "      <td>college</td>\n",
       "      <td>male</td>\n",
       "    </tr>\n",
       "    <tr>\n",
       "      <th>16</th>\n",
       "      <td>xqd20160017</td>\n",
       "      <td>PAIDOFF</td>\n",
       "      <td>1000</td>\n",
       "      <td>30</td>\n",
       "      <td>9/10/2016</td>\n",
       "      <td>10/9/2016</td>\n",
       "      <td>9/27/2016 14:21</td>\n",
       "      <td>NaN</td>\n",
       "      <td>40</td>\n",
       "      <td>High School or Below</td>\n",
       "      <td>male</td>\n",
       "    </tr>\n",
       "    <tr>\n",
       "      <th>17</th>\n",
       "      <td>xqd20160018</td>\n",
       "      <td>PAIDOFF</td>\n",
       "      <td>1000</td>\n",
       "      <td>15</td>\n",
       "      <td>9/10/2016</td>\n",
       "      <td>9/24/2016</td>\n",
       "      <td>9/23/2016 18:49</td>\n",
       "      <td>NaN</td>\n",
       "      <td>32</td>\n",
       "      <td>High School or Below</td>\n",
       "      <td>male</td>\n",
       "    </tr>\n",
       "    <tr>\n",
       "      <th>18</th>\n",
       "      <td>xqd20160019</td>\n",
       "      <td>PAIDOFF</td>\n",
       "      <td>1000</td>\n",
       "      <td>30</td>\n",
       "      <td>9/10/2016</td>\n",
       "      <td>10/9/2016</td>\n",
       "      <td>10/5/2016 22:05</td>\n",
       "      <td>NaN</td>\n",
       "      <td>32</td>\n",
       "      <td>High School or Below</td>\n",
       "      <td>male</td>\n",
       "    </tr>\n",
       "    <tr>\n",
       "      <th>19</th>\n",
       "      <td>xqd20160020</td>\n",
       "      <td>PAIDOFF</td>\n",
       "      <td>800</td>\n",
       "      <td>30</td>\n",
       "      <td>9/10/2016</td>\n",
       "      <td>10/9/2016</td>\n",
       "      <td>9/23/2016 7:42</td>\n",
       "      <td>NaN</td>\n",
       "      <td>26</td>\n",
       "      <td>college</td>\n",
       "      <td>male</td>\n",
       "    </tr>\n",
       "    <tr>\n",
       "      <th>20</th>\n",
       "      <td>xqd20160021</td>\n",
       "      <td>PAIDOFF</td>\n",
       "      <td>1000</td>\n",
       "      <td>30</td>\n",
       "      <td>9/10/2016</td>\n",
       "      <td>10/9/2016</td>\n",
       "      <td>10/9/2016 9:00</td>\n",
       "      <td>NaN</td>\n",
       "      <td>26</td>\n",
       "      <td>college</td>\n",
       "      <td>male</td>\n",
       "    </tr>\n",
       "    <tr>\n",
       "      <th>21</th>\n",
       "      <td>xqd20160022</td>\n",
       "      <td>PAIDOFF</td>\n",
       "      <td>1000</td>\n",
       "      <td>30</td>\n",
       "      <td>9/10/2016</td>\n",
       "      <td>10/9/2016</td>\n",
       "      <td>10/8/2016 17:09</td>\n",
       "      <td>NaN</td>\n",
       "      <td>43</td>\n",
       "      <td>High School or Below</td>\n",
       "      <td>female</td>\n",
       "    </tr>\n",
       "    <tr>\n",
       "      <th>22</th>\n",
       "      <td>xqd20160023</td>\n",
       "      <td>PAIDOFF</td>\n",
       "      <td>1000</td>\n",
       "      <td>30</td>\n",
       "      <td>9/10/2016</td>\n",
       "      <td>10/9/2016</td>\n",
       "      <td>10/9/2016 23:00</td>\n",
       "      <td>NaN</td>\n",
       "      <td>25</td>\n",
       "      <td>High School or Below</td>\n",
       "      <td>male</td>\n",
       "    </tr>\n",
       "    <tr>\n",
       "      <th>23</th>\n",
       "      <td>xqd20160024</td>\n",
       "      <td>PAIDOFF</td>\n",
       "      <td>1000</td>\n",
       "      <td>15</td>\n",
       "      <td>9/10/2016</td>\n",
       "      <td>9/24/2016</td>\n",
       "      <td>9/24/2016 13:00</td>\n",
       "      <td>NaN</td>\n",
       "      <td>26</td>\n",
       "      <td>college</td>\n",
       "      <td>male</td>\n",
       "    </tr>\n",
       "    <tr>\n",
       "      <th>24</th>\n",
       "      <td>xqd20160025</td>\n",
       "      <td>PAIDOFF</td>\n",
       "      <td>1000</td>\n",
       "      <td>30</td>\n",
       "      <td>9/10/2016</td>\n",
       "      <td>10/9/2016</td>\n",
       "      <td>10/3/2016 12:50</td>\n",
       "      <td>NaN</td>\n",
       "      <td>26</td>\n",
       "      <td>college</td>\n",
       "      <td>male</td>\n",
       "    </tr>\n",
       "    <tr>\n",
       "      <th>25</th>\n",
       "      <td>xqd20160026</td>\n",
       "      <td>PAIDOFF</td>\n",
       "      <td>1000</td>\n",
       "      <td>30</td>\n",
       "      <td>9/10/2016</td>\n",
       "      <td>10/9/2016</td>\n",
       "      <td>9/29/2016 12:18</td>\n",
       "      <td>NaN</td>\n",
       "      <td>29</td>\n",
       "      <td>High School or Below</td>\n",
       "      <td>male</td>\n",
       "    </tr>\n",
       "    <tr>\n",
       "      <th>26</th>\n",
       "      <td>xqd20160027</td>\n",
       "      <td>PAIDOFF</td>\n",
       "      <td>800</td>\n",
       "      <td>15</td>\n",
       "      <td>9/10/2016</td>\n",
       "      <td>9/24/2016</td>\n",
       "      <td>9/21/2016 20:16</td>\n",
       "      <td>NaN</td>\n",
       "      <td>39</td>\n",
       "      <td>Bechalor</td>\n",
       "      <td>male</td>\n",
       "    </tr>\n",
       "    <tr>\n",
       "      <th>27</th>\n",
       "      <td>xqd20170088</td>\n",
       "      <td>PAIDOFF</td>\n",
       "      <td>1000</td>\n",
       "      <td>15</td>\n",
       "      <td>9/10/2016</td>\n",
       "      <td>9/24/2016</td>\n",
       "      <td>9/23/2016 8:21</td>\n",
       "      <td>NaN</td>\n",
       "      <td>34</td>\n",
       "      <td>Bechalor</td>\n",
       "      <td>male</td>\n",
       "    </tr>\n",
       "    <tr>\n",
       "      <th>28</th>\n",
       "      <td>xqd20160029</td>\n",
       "      <td>PAIDOFF</td>\n",
       "      <td>1000</td>\n",
       "      <td>30</td>\n",
       "      <td>9/11/2016</td>\n",
       "      <td>10/10/2016</td>\n",
       "      <td>9/22/2016 19:17</td>\n",
       "      <td>NaN</td>\n",
       "      <td>31</td>\n",
       "      <td>college</td>\n",
       "      <td>male</td>\n",
       "    </tr>\n",
       "    <tr>\n",
       "      <th>29</th>\n",
       "      <td>xqd20160030</td>\n",
       "      <td>PAIDOFF</td>\n",
       "      <td>1000</td>\n",
       "      <td>30</td>\n",
       "      <td>9/11/2016</td>\n",
       "      <td>10/10/2016</td>\n",
       "      <td>10/9/2016 17:33</td>\n",
       "      <td>NaN</td>\n",
       "      <td>33</td>\n",
       "      <td>college</td>\n",
       "      <td>male</td>\n",
       "    </tr>\n",
       "    <tr>\n",
       "      <th>...</th>\n",
       "      <td>...</td>\n",
       "      <td>...</td>\n",
       "      <td>...</td>\n",
       "      <td>...</td>\n",
       "      <td>...</td>\n",
       "      <td>...</td>\n",
       "      <td>...</td>\n",
       "      <td>...</td>\n",
       "      <td>...</td>\n",
       "      <td>...</td>\n",
       "      <td>...</td>\n",
       "    </tr>\n",
       "    <tr>\n",
       "      <th>270</th>\n",
       "      <td>xqd20160271</td>\n",
       "      <td>PAIDOFF</td>\n",
       "      <td>1000</td>\n",
       "      <td>30</td>\n",
       "      <td>9/14/2016</td>\n",
       "      <td>10/13/2016</td>\n",
       "      <td>10/14/2016 11:03</td>\n",
       "      <td>NaN</td>\n",
       "      <td>29</td>\n",
       "      <td>High School or Below</td>\n",
       "      <td>male</td>\n",
       "    </tr>\n",
       "    <tr>\n",
       "      <th>271</th>\n",
       "      <td>xqd20160272</td>\n",
       "      <td>PAIDOFF</td>\n",
       "      <td>1000</td>\n",
       "      <td>30</td>\n",
       "      <td>9/14/2016</td>\n",
       "      <td>10/13/2016</td>\n",
       "      <td>10/8/2016 17:12</td>\n",
       "      <td>NaN</td>\n",
       "      <td>32</td>\n",
       "      <td>college</td>\n",
       "      <td>female</td>\n",
       "    </tr>\n",
       "    <tr>\n",
       "      <th>272</th>\n",
       "      <td>xqd20160273</td>\n",
       "      <td>PAIDOFF</td>\n",
       "      <td>1000</td>\n",
       "      <td>30</td>\n",
       "      <td>9/14/2016</td>\n",
       "      <td>11/12/2016</td>\n",
       "      <td>11/12/2016 9:00</td>\n",
       "      <td>NaN</td>\n",
       "      <td>28</td>\n",
       "      <td>college</td>\n",
       "      <td>male</td>\n",
       "    </tr>\n",
       "    <tr>\n",
       "      <th>273</th>\n",
       "      <td>xqd20160274</td>\n",
       "      <td>PAIDOFF</td>\n",
       "      <td>1000</td>\n",
       "      <td>30</td>\n",
       "      <td>9/14/2016</td>\n",
       "      <td>10/13/2016</td>\n",
       "      <td>10/13/2016 9:00</td>\n",
       "      <td>NaN</td>\n",
       "      <td>35</td>\n",
       "      <td>High School or Below</td>\n",
       "      <td>male</td>\n",
       "    </tr>\n",
       "    <tr>\n",
       "      <th>274</th>\n",
       "      <td>xqd20160275</td>\n",
       "      <td>PAIDOFF</td>\n",
       "      <td>1000</td>\n",
       "      <td>30</td>\n",
       "      <td>9/14/2016</td>\n",
       "      <td>10/13/2016</td>\n",
       "      <td>10/13/2016 13:00</td>\n",
       "      <td>NaN</td>\n",
       "      <td>30</td>\n",
       "      <td>Bechalor</td>\n",
       "      <td>male</td>\n",
       "    </tr>\n",
       "    <tr>\n",
       "      <th>275</th>\n",
       "      <td>xqd20160276</td>\n",
       "      <td>PAIDOFF</td>\n",
       "      <td>800</td>\n",
       "      <td>15</td>\n",
       "      <td>9/14/2016</td>\n",
       "      <td>9/28/2016</td>\n",
       "      <td>9/27/2016 15:52</td>\n",
       "      <td>NaN</td>\n",
       "      <td>44</td>\n",
       "      <td>college</td>\n",
       "      <td>male</td>\n",
       "    </tr>\n",
       "    <tr>\n",
       "      <th>276</th>\n",
       "      <td>xqd20160277</td>\n",
       "      <td>PAIDOFF</td>\n",
       "      <td>800</td>\n",
       "      <td>15</td>\n",
       "      <td>9/14/2016</td>\n",
       "      <td>9/28/2016</td>\n",
       "      <td>9/28/2016 13:00</td>\n",
       "      <td>NaN</td>\n",
       "      <td>37</td>\n",
       "      <td>High School or Below</td>\n",
       "      <td>male</td>\n",
       "    </tr>\n",
       "    <tr>\n",
       "      <th>277</th>\n",
       "      <td>xqd20160278</td>\n",
       "      <td>PAIDOFF</td>\n",
       "      <td>1000</td>\n",
       "      <td>30</td>\n",
       "      <td>9/14/2016</td>\n",
       "      <td>10/13/2016</td>\n",
       "      <td>10/13/2016 9:00</td>\n",
       "      <td>NaN</td>\n",
       "      <td>31</td>\n",
       "      <td>college</td>\n",
       "      <td>male</td>\n",
       "    </tr>\n",
       "    <tr>\n",
       "      <th>278</th>\n",
       "      <td>xqd20160279</td>\n",
       "      <td>PAIDOFF</td>\n",
       "      <td>800</td>\n",
       "      <td>15</td>\n",
       "      <td>9/14/2016</td>\n",
       "      <td>9/28/2016</td>\n",
       "      <td>9/15/2016 0:43</td>\n",
       "      <td>NaN</td>\n",
       "      <td>36</td>\n",
       "      <td>college</td>\n",
       "      <td>male</td>\n",
       "    </tr>\n",
       "    <tr>\n",
       "      <th>279</th>\n",
       "      <td>xqd20160280</td>\n",
       "      <td>PAIDOFF</td>\n",
       "      <td>800</td>\n",
       "      <td>30</td>\n",
       "      <td>9/14/2016</td>\n",
       "      <td>10/13/2016</td>\n",
       "      <td>10/10/2016 10:25</td>\n",
       "      <td>NaN</td>\n",
       "      <td>31</td>\n",
       "      <td>college</td>\n",
       "      <td>male</td>\n",
       "    </tr>\n",
       "    <tr>\n",
       "      <th>280</th>\n",
       "      <td>xqd20160281</td>\n",
       "      <td>PAIDOFF</td>\n",
       "      <td>800</td>\n",
       "      <td>15</td>\n",
       "      <td>9/14/2016</td>\n",
       "      <td>9/28/2016</td>\n",
       "      <td>9/27/2016 20:41</td>\n",
       "      <td>NaN</td>\n",
       "      <td>42</td>\n",
       "      <td>High School or Below</td>\n",
       "      <td>male</td>\n",
       "    </tr>\n",
       "    <tr>\n",
       "      <th>281</th>\n",
       "      <td>xqd20160282</td>\n",
       "      <td>PAIDOFF</td>\n",
       "      <td>1000</td>\n",
       "      <td>15</td>\n",
       "      <td>9/14/2016</td>\n",
       "      <td>9/28/2016</td>\n",
       "      <td>9/28/2016 9:00</td>\n",
       "      <td>NaN</td>\n",
       "      <td>28</td>\n",
       "      <td>Bechalor</td>\n",
       "      <td>male</td>\n",
       "    </tr>\n",
       "    <tr>\n",
       "      <th>282</th>\n",
       "      <td>xqd20160283</td>\n",
       "      <td>PAIDOFF</td>\n",
       "      <td>1000</td>\n",
       "      <td>30</td>\n",
       "      <td>9/14/2016</td>\n",
       "      <td>10/13/2016</td>\n",
       "      <td>10/6/2016 6:51</td>\n",
       "      <td>NaN</td>\n",
       "      <td>30</td>\n",
       "      <td>college</td>\n",
       "      <td>male</td>\n",
       "    </tr>\n",
       "    <tr>\n",
       "      <th>283</th>\n",
       "      <td>xqd20160284</td>\n",
       "      <td>PAIDOFF</td>\n",
       "      <td>1000</td>\n",
       "      <td>30</td>\n",
       "      <td>9/14/2016</td>\n",
       "      <td>10/13/2016</td>\n",
       "      <td>10/12/2016 6:25</td>\n",
       "      <td>NaN</td>\n",
       "      <td>30</td>\n",
       "      <td>High School or Below</td>\n",
       "      <td>male</td>\n",
       "    </tr>\n",
       "    <tr>\n",
       "      <th>284</th>\n",
       "      <td>xqd20160285</td>\n",
       "      <td>PAIDOFF</td>\n",
       "      <td>1000</td>\n",
       "      <td>15</td>\n",
       "      <td>9/14/2016</td>\n",
       "      <td>9/28/2016</td>\n",
       "      <td>9/27/2016 22:50</td>\n",
       "      <td>NaN</td>\n",
       "      <td>24</td>\n",
       "      <td>Bechalor</td>\n",
       "      <td>male</td>\n",
       "    </tr>\n",
       "    <tr>\n",
       "      <th>285</th>\n",
       "      <td>xqd20160286</td>\n",
       "      <td>PAIDOFF</td>\n",
       "      <td>1000</td>\n",
       "      <td>30</td>\n",
       "      <td>9/14/2016</td>\n",
       "      <td>11/12/2016</td>\n",
       "      <td>11/12/2016 9:00</td>\n",
       "      <td>NaN</td>\n",
       "      <td>34</td>\n",
       "      <td>Bechalor</td>\n",
       "      <td>male</td>\n",
       "    </tr>\n",
       "    <tr>\n",
       "      <th>286</th>\n",
       "      <td>xqd20160287</td>\n",
       "      <td>PAIDOFF</td>\n",
       "      <td>1000</td>\n",
       "      <td>30</td>\n",
       "      <td>9/14/2016</td>\n",
       "      <td>10/13/2016</td>\n",
       "      <td>10/12/2016 12:30</td>\n",
       "      <td>NaN</td>\n",
       "      <td>29</td>\n",
       "      <td>college</td>\n",
       "      <td>male</td>\n",
       "    </tr>\n",
       "    <tr>\n",
       "      <th>287</th>\n",
       "      <td>xqd20160288</td>\n",
       "      <td>PAIDOFF</td>\n",
       "      <td>1000</td>\n",
       "      <td>30</td>\n",
       "      <td>9/14/2016</td>\n",
       "      <td>10/13/2016</td>\n",
       "      <td>10/12/2016 3:49</td>\n",
       "      <td>NaN</td>\n",
       "      <td>38</td>\n",
       "      <td>High School or Below</td>\n",
       "      <td>female</td>\n",
       "    </tr>\n",
       "    <tr>\n",
       "      <th>288</th>\n",
       "      <td>xqd20160289</td>\n",
       "      <td>PAIDOFF</td>\n",
       "      <td>1000</td>\n",
       "      <td>30</td>\n",
       "      <td>9/14/2016</td>\n",
       "      <td>10/13/2016</td>\n",
       "      <td>10/13/2016 13:00</td>\n",
       "      <td>NaN</td>\n",
       "      <td>34</td>\n",
       "      <td>Bechalor</td>\n",
       "      <td>male</td>\n",
       "    </tr>\n",
       "    <tr>\n",
       "      <th>289</th>\n",
       "      <td>xqd20160290</td>\n",
       "      <td>PAIDOFF</td>\n",
       "      <td>800</td>\n",
       "      <td>15</td>\n",
       "      <td>9/14/2016</td>\n",
       "      <td>9/28/2016</td>\n",
       "      <td>9/27/2016 7:48</td>\n",
       "      <td>NaN</td>\n",
       "      <td>28</td>\n",
       "      <td>High School or Below</td>\n",
       "      <td>male</td>\n",
       "    </tr>\n",
       "    <tr>\n",
       "      <th>290</th>\n",
       "      <td>xqd20160291</td>\n",
       "      <td>PAIDOFF</td>\n",
       "      <td>1000</td>\n",
       "      <td>15</td>\n",
       "      <td>9/14/2016</td>\n",
       "      <td>9/28/2016</td>\n",
       "      <td>9/22/2016 9:28</td>\n",
       "      <td>NaN</td>\n",
       "      <td>30</td>\n",
       "      <td>college</td>\n",
       "      <td>female</td>\n",
       "    </tr>\n",
       "    <tr>\n",
       "      <th>291</th>\n",
       "      <td>xqd20160292</td>\n",
       "      <td>PAIDOFF</td>\n",
       "      <td>1000</td>\n",
       "      <td>30</td>\n",
       "      <td>9/14/2016</td>\n",
       "      <td>10/13/2016</td>\n",
       "      <td>10/11/2016 16:33</td>\n",
       "      <td>NaN</td>\n",
       "      <td>41</td>\n",
       "      <td>High School or Below</td>\n",
       "      <td>male</td>\n",
       "    </tr>\n",
       "    <tr>\n",
       "      <th>292</th>\n",
       "      <td>xqd20160293</td>\n",
       "      <td>PAIDOFF</td>\n",
       "      <td>1000</td>\n",
       "      <td>30</td>\n",
       "      <td>9/14/2016</td>\n",
       "      <td>10/13/2016</td>\n",
       "      <td>9/18/2016 16:56</td>\n",
       "      <td>NaN</td>\n",
       "      <td>29</td>\n",
       "      <td>college</td>\n",
       "      <td>male</td>\n",
       "    </tr>\n",
       "    <tr>\n",
       "      <th>293</th>\n",
       "      <td>xqd20160294</td>\n",
       "      <td>PAIDOFF</td>\n",
       "      <td>1000</td>\n",
       "      <td>30</td>\n",
       "      <td>9/14/2016</td>\n",
       "      <td>10/13/2016</td>\n",
       "      <td>10/13/2016 9:00</td>\n",
       "      <td>NaN</td>\n",
       "      <td>37</td>\n",
       "      <td>High School or Below</td>\n",
       "      <td>male</td>\n",
       "    </tr>\n",
       "    <tr>\n",
       "      <th>294</th>\n",
       "      <td>xqd20160295</td>\n",
       "      <td>PAIDOFF</td>\n",
       "      <td>1000</td>\n",
       "      <td>30</td>\n",
       "      <td>9/14/2016</td>\n",
       "      <td>10/13/2016</td>\n",
       "      <td>10/13/2016 13:00</td>\n",
       "      <td>NaN</td>\n",
       "      <td>36</td>\n",
       "      <td>Bechalor</td>\n",
       "      <td>male</td>\n",
       "    </tr>\n",
       "    <tr>\n",
       "      <th>295</th>\n",
       "      <td>xqd20160296</td>\n",
       "      <td>PAIDOFF</td>\n",
       "      <td>1000</td>\n",
       "      <td>30</td>\n",
       "      <td>9/14/2016</td>\n",
       "      <td>10/13/2016</td>\n",
       "      <td>10/13/2016 13:00</td>\n",
       "      <td>NaN</td>\n",
       "      <td>30</td>\n",
       "      <td>college</td>\n",
       "      <td>female</td>\n",
       "    </tr>\n",
       "    <tr>\n",
       "      <th>296</th>\n",
       "      <td>xqd20160297</td>\n",
       "      <td>PAIDOFF</td>\n",
       "      <td>800</td>\n",
       "      <td>15</td>\n",
       "      <td>9/14/2016</td>\n",
       "      <td>9/28/2016</td>\n",
       "      <td>9/21/2016 4:42</td>\n",
       "      <td>NaN</td>\n",
       "      <td>27</td>\n",
       "      <td>college</td>\n",
       "      <td>male</td>\n",
       "    </tr>\n",
       "    <tr>\n",
       "      <th>297</th>\n",
       "      <td>xqd20160298</td>\n",
       "      <td>PAIDOFF</td>\n",
       "      <td>1000</td>\n",
       "      <td>30</td>\n",
       "      <td>9/14/2016</td>\n",
       "      <td>10/13/2016</td>\n",
       "      <td>10/13/2016 9:00</td>\n",
       "      <td>NaN</td>\n",
       "      <td>29</td>\n",
       "      <td>High School or Below</td>\n",
       "      <td>male</td>\n",
       "    </tr>\n",
       "    <tr>\n",
       "      <th>298</th>\n",
       "      <td>xqd20160299</td>\n",
       "      <td>PAIDOFF</td>\n",
       "      <td>1000</td>\n",
       "      <td>30</td>\n",
       "      <td>9/14/2016</td>\n",
       "      <td>10/13/2016</td>\n",
       "      <td>10/13/2016 9:00</td>\n",
       "      <td>NaN</td>\n",
       "      <td>40</td>\n",
       "      <td>High School or Below</td>\n",
       "      <td>male</td>\n",
       "    </tr>\n",
       "    <tr>\n",
       "      <th>299</th>\n",
       "      <td>xqd20160300</td>\n",
       "      <td>PAIDOFF</td>\n",
       "      <td>1000</td>\n",
       "      <td>30</td>\n",
       "      <td>9/14/2016</td>\n",
       "      <td>10/13/2016</td>\n",
       "      <td>10/13/2016 11:00</td>\n",
       "      <td>NaN</td>\n",
       "      <td>28</td>\n",
       "      <td>college</td>\n",
       "      <td>male</td>\n",
       "    </tr>\n",
       "  </tbody>\n",
       "</table>\n",
       "<p>300 rows × 11 columns</p>\n",
       "</div>"
      ],
      "text/plain": [
       "         Loan_ID loan_status  Principal  terms effective_date    due_date  \\\n",
       "0    xqd20166231     PAIDOFF       1000     30       9/8/2016   10/7/2016   \n",
       "1    xqd20168902     PAIDOFF       1000     30       9/8/2016   10/7/2016   \n",
       "2    xqd20160003     PAIDOFF       1000     30       9/8/2016   10/7/2016   \n",
       "3    xqd20160004     PAIDOFF       1000     15       9/8/2016   9/22/2016   \n",
       "4    xqd20160005     PAIDOFF       1000     30       9/9/2016   10/8/2016   \n",
       "5    xqd20160706     PAIDOFF        300      7       9/9/2016   9/15/2016   \n",
       "6    xqd20160007     PAIDOFF       1000     30       9/9/2016   10/8/2016   \n",
       "7    xqd20160008     PAIDOFF       1000     30       9/9/2016   10/8/2016   \n",
       "8    xqd20160909     PAIDOFF       1000     30       9/9/2016   10/8/2016   \n",
       "9    xqd20160010     PAIDOFF        800     15      9/10/2016   9/24/2016   \n",
       "10   xqd20160011     PAIDOFF        300      7      9/10/2016   9/16/2016   \n",
       "11   xqd20160012     PAIDOFF       1000     15      9/10/2016   10/9/2016   \n",
       "12   xqd20160013     PAIDOFF       1000     30      9/10/2016   10/9/2016   \n",
       "13   xqd20160014     PAIDOFF        900      7      9/10/2016   9/16/2016   \n",
       "14   xqd20160015     PAIDOFF       1000      7      9/10/2016   9/16/2016   \n",
       "15   xqd20160016     PAIDOFF        800     15      9/10/2016   9/24/2016   \n",
       "16   xqd20160017     PAIDOFF       1000     30      9/10/2016   10/9/2016   \n",
       "17   xqd20160018     PAIDOFF       1000     15      9/10/2016   9/24/2016   \n",
       "18   xqd20160019     PAIDOFF       1000     30      9/10/2016   10/9/2016   \n",
       "19   xqd20160020     PAIDOFF        800     30      9/10/2016   10/9/2016   \n",
       "20   xqd20160021     PAIDOFF       1000     30      9/10/2016   10/9/2016   \n",
       "21   xqd20160022     PAIDOFF       1000     30      9/10/2016   10/9/2016   \n",
       "22   xqd20160023     PAIDOFF       1000     30      9/10/2016   10/9/2016   \n",
       "23   xqd20160024     PAIDOFF       1000     15      9/10/2016   9/24/2016   \n",
       "24   xqd20160025     PAIDOFF       1000     30      9/10/2016   10/9/2016   \n",
       "25   xqd20160026     PAIDOFF       1000     30      9/10/2016   10/9/2016   \n",
       "26   xqd20160027     PAIDOFF        800     15      9/10/2016   9/24/2016   \n",
       "27   xqd20170088     PAIDOFF       1000     15      9/10/2016   9/24/2016   \n",
       "28   xqd20160029     PAIDOFF       1000     30      9/11/2016  10/10/2016   \n",
       "29   xqd20160030     PAIDOFF       1000     30      9/11/2016  10/10/2016   \n",
       "..           ...         ...        ...    ...            ...         ...   \n",
       "270  xqd20160271     PAIDOFF       1000     30      9/14/2016  10/13/2016   \n",
       "271  xqd20160272     PAIDOFF       1000     30      9/14/2016  10/13/2016   \n",
       "272  xqd20160273     PAIDOFF       1000     30      9/14/2016  11/12/2016   \n",
       "273  xqd20160274     PAIDOFF       1000     30      9/14/2016  10/13/2016   \n",
       "274  xqd20160275     PAIDOFF       1000     30      9/14/2016  10/13/2016   \n",
       "275  xqd20160276     PAIDOFF        800     15      9/14/2016   9/28/2016   \n",
       "276  xqd20160277     PAIDOFF        800     15      9/14/2016   9/28/2016   \n",
       "277  xqd20160278     PAIDOFF       1000     30      9/14/2016  10/13/2016   \n",
       "278  xqd20160279     PAIDOFF        800     15      9/14/2016   9/28/2016   \n",
       "279  xqd20160280     PAIDOFF        800     30      9/14/2016  10/13/2016   \n",
       "280  xqd20160281     PAIDOFF        800     15      9/14/2016   9/28/2016   \n",
       "281  xqd20160282     PAIDOFF       1000     15      9/14/2016   9/28/2016   \n",
       "282  xqd20160283     PAIDOFF       1000     30      9/14/2016  10/13/2016   \n",
       "283  xqd20160284     PAIDOFF       1000     30      9/14/2016  10/13/2016   \n",
       "284  xqd20160285     PAIDOFF       1000     15      9/14/2016   9/28/2016   \n",
       "285  xqd20160286     PAIDOFF       1000     30      9/14/2016  11/12/2016   \n",
       "286  xqd20160287     PAIDOFF       1000     30      9/14/2016  10/13/2016   \n",
       "287  xqd20160288     PAIDOFF       1000     30      9/14/2016  10/13/2016   \n",
       "288  xqd20160289     PAIDOFF       1000     30      9/14/2016  10/13/2016   \n",
       "289  xqd20160290     PAIDOFF        800     15      9/14/2016   9/28/2016   \n",
       "290  xqd20160291     PAIDOFF       1000     15      9/14/2016   9/28/2016   \n",
       "291  xqd20160292     PAIDOFF       1000     30      9/14/2016  10/13/2016   \n",
       "292  xqd20160293     PAIDOFF       1000     30      9/14/2016  10/13/2016   \n",
       "293  xqd20160294     PAIDOFF       1000     30      9/14/2016  10/13/2016   \n",
       "294  xqd20160295     PAIDOFF       1000     30      9/14/2016  10/13/2016   \n",
       "295  xqd20160296     PAIDOFF       1000     30      9/14/2016  10/13/2016   \n",
       "296  xqd20160297     PAIDOFF        800     15      9/14/2016   9/28/2016   \n",
       "297  xqd20160298     PAIDOFF       1000     30      9/14/2016  10/13/2016   \n",
       "298  xqd20160299     PAIDOFF       1000     30      9/14/2016  10/13/2016   \n",
       "299  xqd20160300     PAIDOFF       1000     30      9/14/2016  10/13/2016   \n",
       "\n",
       "        paid_off_time  past_due_days  age             education  Gender  \n",
       "0     9/14/2016 19:31            NaN   45  High School or Below    male  \n",
       "1      10/7/2016 9:00            NaN   50              Bechalor  female  \n",
       "2     9/25/2016 16:58            NaN   33              Bechalor  female  \n",
       "3     9/22/2016 20:00            NaN   27               college    male  \n",
       "4     9/23/2016 21:36            NaN   28               college  female  \n",
       "5      9/9/2016 13:45            NaN   35       Master or Above    male  \n",
       "6     10/7/2016 23:07            NaN   29               college    male  \n",
       "7     10/5/2016 20:33            NaN   36               college    male  \n",
       "8     10/8/2016 16:00            NaN   28               college    male  \n",
       "9     9/24/2016 13:00            NaN   26               college    male  \n",
       "10    9/11/2016 19:11            NaN   29               college    male  \n",
       "11    10/9/2016 16:00            NaN   39  High School or Below    male  \n",
       "12    10/7/2016 23:32            NaN   26               college    male  \n",
       "13    9/13/2016 21:57            NaN   26               college  female  \n",
       "14    9/15/2016 14:27            NaN   27  High School or Below    male  \n",
       "15    9/24/2016 16:00            NaN   26               college    male  \n",
       "16    9/27/2016 14:21            NaN   40  High School or Below    male  \n",
       "17    9/23/2016 18:49            NaN   32  High School or Below    male  \n",
       "18    10/5/2016 22:05            NaN   32  High School or Below    male  \n",
       "19     9/23/2016 7:42            NaN   26               college    male  \n",
       "20     10/9/2016 9:00            NaN   26               college    male  \n",
       "21    10/8/2016 17:09            NaN   43  High School or Below  female  \n",
       "22    10/9/2016 23:00            NaN   25  High School or Below    male  \n",
       "23    9/24/2016 13:00            NaN   26               college    male  \n",
       "24    10/3/2016 12:50            NaN   26               college    male  \n",
       "25    9/29/2016 12:18            NaN   29  High School or Below    male  \n",
       "26    9/21/2016 20:16            NaN   39              Bechalor    male  \n",
       "27     9/23/2016 8:21            NaN   34              Bechalor    male  \n",
       "28    9/22/2016 19:17            NaN   31               college    male  \n",
       "29    10/9/2016 17:33            NaN   33               college    male  \n",
       "..                ...            ...  ...                   ...     ...  \n",
       "270  10/14/2016 11:03            NaN   29  High School or Below    male  \n",
       "271   10/8/2016 17:12            NaN   32               college  female  \n",
       "272   11/12/2016 9:00            NaN   28               college    male  \n",
       "273   10/13/2016 9:00            NaN   35  High School or Below    male  \n",
       "274  10/13/2016 13:00            NaN   30              Bechalor    male  \n",
       "275   9/27/2016 15:52            NaN   44               college    male  \n",
       "276   9/28/2016 13:00            NaN   37  High School or Below    male  \n",
       "277   10/13/2016 9:00            NaN   31               college    male  \n",
       "278    9/15/2016 0:43            NaN   36               college    male  \n",
       "279  10/10/2016 10:25            NaN   31               college    male  \n",
       "280   9/27/2016 20:41            NaN   42  High School or Below    male  \n",
       "281    9/28/2016 9:00            NaN   28              Bechalor    male  \n",
       "282    10/6/2016 6:51            NaN   30               college    male  \n",
       "283   10/12/2016 6:25            NaN   30  High School or Below    male  \n",
       "284   9/27/2016 22:50            NaN   24              Bechalor    male  \n",
       "285   11/12/2016 9:00            NaN   34              Bechalor    male  \n",
       "286  10/12/2016 12:30            NaN   29               college    male  \n",
       "287   10/12/2016 3:49            NaN   38  High School or Below  female  \n",
       "288  10/13/2016 13:00            NaN   34              Bechalor    male  \n",
       "289    9/27/2016 7:48            NaN   28  High School or Below    male  \n",
       "290    9/22/2016 9:28            NaN   30               college  female  \n",
       "291  10/11/2016 16:33            NaN   41  High School or Below    male  \n",
       "292   9/18/2016 16:56            NaN   29               college    male  \n",
       "293   10/13/2016 9:00            NaN   37  High School or Below    male  \n",
       "294  10/13/2016 13:00            NaN   36              Bechalor    male  \n",
       "295  10/13/2016 13:00            NaN   30               college  female  \n",
       "296    9/21/2016 4:42            NaN   27               college    male  \n",
       "297   10/13/2016 9:00            NaN   29  High School or Below    male  \n",
       "298   10/13/2016 9:00            NaN   40  High School or Below    male  \n",
       "299  10/13/2016 11:00            NaN   28               college    male  \n",
       "\n",
       "[300 rows x 11 columns]"
      ]
     },
     "execution_count": 10,
     "metadata": {},
     "output_type": "execute_result"
    }
   ],
   "source": [
    "loandf[loandf[\"past_due_days\"].isnull()]"
   ]
  },
  {
   "cell_type": "markdown",
   "metadata": {},
   "source": [
    "**past_due_days** shows some missing values. However, those values are not missing values. It represents a loan is not past due."
   ]
  },
  {
   "cell_type": "code",
   "execution_count": 560,
   "metadata": {
    "scrolled": true
   },
   "outputs": [
    {
     "data": {
      "text/plain": [
       "<matplotlib.axes._subplots.AxesSubplot at 0x1a229e7710>"
      ]
     },
     "execution_count": 560,
     "metadata": {},
     "output_type": "execute_result"
    },
    {
     "data": {
      "image/png": "[encoded data removed]",
      "text/plain": [
       "<Figure size 432x288 with 1 Axes>"
      ]
     },
     "metadata": {},
     "output_type": "display_data"
    }
   ],
   "source": [
    "sns.heatmap(loandf.isnull(), yticklabels=False, cbar=False, cmap= \"viridis\")"
   ]
  },
  {
   "cell_type": "code",
   "execution_count": 561,
   "metadata": {},
   "outputs": [],
   "source": [
    "loandf['past_due_days'].fillna(0, inplace=True)"
   ]
  },
  {
   "cell_type": "code",
   "execution_count": 562,
   "metadata": {
    "scrolled": false
   },
   "outputs": [
    {
     "data": {
      "text/plain": [
       "<matplotlib.axes._subplots.AxesSubplot at 0x1a2382ffd0>"
      ]
     },
     "execution_count": 562,
     "metadata": {},
     "output_type": "execute_result"
    },
    {
     "data": {
      "image/png": "[encoded data removed]",
      "text/plain": [
       "<Figure size 432x288 with 1 Axes>"
      ]
     },
     "metadata": {},
     "output_type": "display_data"
    }
   ],
   "source": [
    "sns.heatmap(loandf.isnull(), yticklabels=False, cbar=False, cmap= \"viridis\")"
   ]
  },
  {
   "cell_type": "code",
   "execution_count": 563,
   "metadata": {},
   "outputs": [],
   "source": [
    "loandf['paid_off_time'].fillna(\"havent paid\", inplace=True)"
   ]
  },
  {
   "cell_type": "code",
   "execution_count": 564,
   "metadata": {
    "scrolled": false
   },
   "outputs": [
    {
     "data": {
      "text/plain": [
       "<matplotlib.axes._subplots.AxesSubplot at 0x1a22e45e10>"
      ]
     },
     "execution_count": 564,
     "metadata": {},
     "output_type": "execute_result"
    },
    {
     "data": {
      "image/png": "[encoded data removed]",
      "text/plain": [
       "<Figure size 432x288 with 1 Axes>"
      ]
     },
     "metadata": {},
     "output_type": "display_data"
    }
   ],
   "source": [
    "sns.heatmap(loandf.isnull(), yticklabels=False, cbar=False, cmap= \"viridis\")"
   ]
  },
  {
   "cell_type": "markdown",
   "metadata": {},
   "source": [
    "All clean up"
   ]
  },
  {
   "cell_type": "code",
   "execution_count": 565,
   "metadata": {
    "scrolled": true
   },
   "outputs": [
    {
     "data": {
      "text/html": [
       "<div>\n",
       "<style scoped>\n",
       "    .dataframe tbody tr th:only-of-type {\n",
       "        vertical-align: middle;\n",
       "    }\n",
       "\n",
       "    .dataframe tbody tr th {\n",
       "        vertical-align: top;\n",
       "    }\n",
       "\n",
       "    .dataframe thead th {\n",
       "        text-align: right;\n",
       "    }\n",
       "</style>\n",
       "<table border=\"1\" class=\"dataframe\">\n",
       "  <thead>\n",
       "    <tr style=\"text-align: right;\">\n",
       "      <th></th>\n",
       "      <th>Loan_ID</th>\n",
       "      <th>loan_status</th>\n",
       "      <th>Principal</th>\n",
       "      <th>terms</th>\n",
       "      <th>effective_date</th>\n",
       "      <th>due_date</th>\n",
       "      <th>paid_off_time</th>\n",
       "      <th>past_due_days</th>\n",
       "      <th>age</th>\n",
       "      <th>education</th>\n",
       "      <th>Gender</th>\n",
       "    </tr>\n",
       "  </thead>\n",
       "  <tbody>\n",
       "    <tr>\n",
       "      <th>0</th>\n",
       "      <td>xqd20166231</td>\n",
       "      <td>PAIDOFF</td>\n",
       "      <td>1000</td>\n",
       "      <td>30</td>\n",
       "      <td>9/8/2016</td>\n",
       "      <td>10/7/2016</td>\n",
       "      <td>9/14/2016 19:31</td>\n",
       "      <td>0.0</td>\n",
       "      <td>45</td>\n",
       "      <td>High School or Below</td>\n",
       "      <td>male</td>\n",
       "    </tr>\n",
       "    <tr>\n",
       "      <th>2</th>\n",
       "      <td>xqd20160003</td>\n",
       "      <td>PAIDOFF</td>\n",
       "      <td>1000</td>\n",
       "      <td>30</td>\n",
       "      <td>9/8/2016</td>\n",
       "      <td>10/7/2016</td>\n",
       "      <td>9/25/2016 16:58</td>\n",
       "      <td>0.0</td>\n",
       "      <td>33</td>\n",
       "      <td>Bechalor</td>\n",
       "      <td>female</td>\n",
       "    </tr>\n",
       "  </tbody>\n",
       "</table>\n",
       "</div>"
      ],
      "text/plain": [
       "       Loan_ID loan_status  Principal  terms effective_date   due_date  \\\n",
       "0  xqd20166231     PAIDOFF       1000     30       9/8/2016  10/7/2016   \n",
       "2  xqd20160003     PAIDOFF       1000     30       9/8/2016  10/7/2016   \n",
       "\n",
       "     paid_off_time  past_due_days  age             education  Gender  \n",
       "0  9/14/2016 19:31            0.0   45  High School or Below    male  \n",
       "2  9/25/2016 16:58            0.0   33              Bechalor  female  "
      ]
     },
     "execution_count": 565,
     "metadata": {},
     "output_type": "execute_result"
    }
   ],
   "source": [
    "loandf.head(2)"
   ]
  },
  {
   "cell_type": "markdown",
   "metadata": {},
   "source": [
    "**Dummy variables**"
   ]
  },
  {
   "cell_type": "code",
   "execution_count": 566,
   "metadata": {},
   "outputs": [],
   "source": [
    "Gender = pd.get_dummies(loandf[\"Gender\"], drop_first=True)"
   ]
  },
  {
   "cell_type": "code",
   "execution_count": 567,
   "metadata": {},
   "outputs": [],
   "source": [
    "education = pd.get_dummies(loandf[\"education\"], drop_first=True)"
   ]
  },
  {
   "cell_type": "markdown",
   "metadata": {},
   "source": [
    "**Make a copy which is used to make the model later**"
   ]
  },
  {
   "cell_type": "code",
   "execution_count": 568,
   "metadata": {},
   "outputs": [],
   "source": [
    "loandf_copy = pd.concat([loandf, Gender ,education],axis=1)"
   ]
  },
  {
   "cell_type": "code",
   "execution_count": 569,
   "metadata": {
    "scrolled": true
   },
   "outputs": [
    {
     "data": {
      "text/html": [
       "<div>\n",
       "<style scoped>\n",
       "    .dataframe tbody tr th:only-of-type {\n",
       "        vertical-align: middle;\n",
       "    }\n",
       "\n",
       "    .dataframe tbody tr th {\n",
       "        vertical-align: top;\n",
       "    }\n",
       "\n",
       "    .dataframe thead th {\n",
       "        text-align: right;\n",
       "    }\n",
       "</style>\n",
       "<table border=\"1\" class=\"dataframe\">\n",
       "  <thead>\n",
       "    <tr style=\"text-align: right;\">\n",
       "      <th></th>\n",
       "      <th>Loan_ID</th>\n",
       "      <th>loan_status</th>\n",
       "      <th>Principal</th>\n",
       "      <th>terms</th>\n",
       "      <th>effective_date</th>\n",
       "      <th>due_date</th>\n",
       "      <th>paid_off_time</th>\n",
       "      <th>past_due_days</th>\n",
       "      <th>age</th>\n",
       "      <th>education</th>\n",
       "      <th>Gender</th>\n",
       "      <th>male</th>\n",
       "      <th>High School or Below</th>\n",
       "      <th>Master or Above</th>\n",
       "      <th>college</th>\n",
       "    </tr>\n",
       "  </thead>\n",
       "  <tbody>\n",
       "    <tr>\n",
       "      <th>0</th>\n",
       "      <td>xqd20166231</td>\n",
       "      <td>PAIDOFF</td>\n",
       "      <td>1000</td>\n",
       "      <td>30</td>\n",
       "      <td>9/8/2016</td>\n",
       "      <td>10/7/2016</td>\n",
       "      <td>9/14/2016 19:31</td>\n",
       "      <td>0.0</td>\n",
       "      <td>45</td>\n",
       "      <td>High School or Below</td>\n",
       "      <td>male</td>\n",
       "      <td>1</td>\n",
       "      <td>1</td>\n",
       "      <td>0</td>\n",
       "      <td>0</td>\n",
       "    </tr>\n",
       "  </tbody>\n",
       "</table>\n",
       "</div>"
      ],
      "text/plain": [
       "       Loan_ID loan_status  Principal  terms effective_date   due_date  \\\n",
       "0  xqd20166231     PAIDOFF       1000     30       9/8/2016  10/7/2016   \n",
       "\n",
       "     paid_off_time  past_due_days  age             education Gender  male  \\\n",
       "0  9/14/2016 19:31            0.0   45  High School or Below   male     1   \n",
       "\n",
       "   High School or Below  Master or Above  college  \n",
       "0                     1                0        0  "
      ]
     },
     "execution_count": 569,
     "metadata": {},
     "output_type": "execute_result"
    }
   ],
   "source": [
    "loandf_copy.head(1)"
   ]
  },
  {
   "cell_type": "code",
   "execution_count": 570,
   "metadata": {},
   "outputs": [],
   "source": [
    "loandf_copy['loan_status'] = loandf_copy['loan_status'].map({'PAIDOFF': 0, 'COLLECTION': 1, 'COLLECTION_PAIDOFF': 2})"
   ]
  },
  {
   "cell_type": "markdown",
   "metadata": {},
   "source": [
    "Remove unrelevant columns "
   ]
  },
  {
   "cell_type": "code",
   "execution_count": 571,
   "metadata": {
    "scrolled": true
   },
   "outputs": [],
   "source": [
    "loandf_copy.drop([\"Loan_ID\",\"Gender\",\"education\",\"effective_date\",\"due_date\",\"paid_off_time\",\"past_due_days\"],\n",
    "                 axis=1, inplace= True)"
   ]
  },
  {
   "cell_type": "code",
   "execution_count": 572,
   "metadata": {
    "scrolled": false
   },
   "outputs": [
    {
     "data": {
      "text/html": [
       "<div>\n",
       "<style scoped>\n",
       "    .dataframe tbody tr th:only-of-type {\n",
       "        vertical-align: middle;\n",
       "    }\n",
       "\n",
       "    .dataframe tbody tr th {\n",
       "        vertical-align: top;\n",
       "    }\n",
       "\n",
       "    .dataframe thead th {\n",
       "        text-align: right;\n",
       "    }\n",
       "</style>\n",
       "<table border=\"1\" class=\"dataframe\">\n",
       "  <thead>\n",
       "    <tr style=\"text-align: right;\">\n",
       "      <th></th>\n",
       "      <th>loan_status</th>\n",
       "      <th>Principal</th>\n",
       "      <th>terms</th>\n",
       "      <th>age</th>\n",
       "      <th>male</th>\n",
       "      <th>High School or Below</th>\n",
       "      <th>Master or Above</th>\n",
       "      <th>college</th>\n",
       "    </tr>\n",
       "  </thead>\n",
       "  <tbody>\n",
       "    <tr>\n",
       "      <th>0</th>\n",
       "      <td>0</td>\n",
       "      <td>1000</td>\n",
       "      <td>30</td>\n",
       "      <td>45</td>\n",
       "      <td>1</td>\n",
       "      <td>1</td>\n",
       "      <td>0</td>\n",
       "      <td>0</td>\n",
       "    </tr>\n",
       "  </tbody>\n",
       "</table>\n",
       "</div>"
      ],
      "text/plain": [
       "   loan_status  Principal  terms  age  male  High School or Below  \\\n",
       "0            0       1000     30   45     1                     1   \n",
       "\n",
       "   Master or Above  college  \n",
       "0                0        0  "
      ]
     },
     "execution_count": 572,
     "metadata": {},
     "output_type": "execute_result"
    }
   ],
   "source": [
    "loandf_copy.head(1)"
   ]
  },
  {
   "cell_type": "markdown",
   "metadata": {},
   "source": [
    "## EDA"
   ]
  },
  {
   "cell_type": "code",
   "execution_count": 406,
   "metadata": {
    "scrolled": true
   },
   "outputs": [
    {
     "name": "stdout",
     "output_type": "stream",
     "text": [
      "<class 'pandas.core.frame.DataFrame'>\n",
      "Int64Index: 494 entries, 0 to 499\n",
      "Data columns (total 11 columns):\n",
      "Loan_ID           494 non-null object\n",
      "loan_status       494 non-null object\n",
      "Principal         494 non-null int64\n",
      "terms             494 non-null int64\n",
      "effective_date    494 non-null object\n",
      "due_date          494 non-null object\n",
      "paid_off_time     494 non-null object\n",
      "past_due_days     494 non-null float64\n",
      "age               494 non-null int64\n",
      "education         494 non-null object\n",
      "Gender            494 non-null object\n",
      "dtypes: float64(1), int64(3), object(7)\n",
      "memory usage: 46.3+ KB\n"
     ]
    }
   ],
   "source": [
    "loandf.info()"
   ]
  },
  {
   "cell_type": "code",
   "execution_count": 407,
   "metadata": {
    "scrolled": true
   },
   "outputs": [
    {
     "data": {
      "text/html": [
       "<div>\n",
       "<style scoped>\n",
       "    .dataframe tbody tr th:only-of-type {\n",
       "        vertical-align: middle;\n",
       "    }\n",
       "\n",
       "    .dataframe tbody tr th {\n",
       "        vertical-align: top;\n",
       "    }\n",
       "\n",
       "    .dataframe thead th {\n",
       "        text-align: right;\n",
       "    }\n",
       "</style>\n",
       "<table border=\"1\" class=\"dataframe\">\n",
       "  <thead>\n",
       "    <tr style=\"text-align: right;\">\n",
       "      <th></th>\n",
       "      <th>Principal</th>\n",
       "      <th>terms</th>\n",
       "      <th>past_due_days</th>\n",
       "      <th>age</th>\n",
       "    </tr>\n",
       "  </thead>\n",
       "  <tbody>\n",
       "    <tr>\n",
       "      <th>count</th>\n",
       "      <td>494.000000</td>\n",
       "      <td>494.000000</td>\n",
       "      <td>494.000000</td>\n",
       "      <td>494.000000</td>\n",
       "    </tr>\n",
       "    <tr>\n",
       "      <th>mean</th>\n",
       "      <td>943.319838</td>\n",
       "      <td>22.858300</td>\n",
       "      <td>14.427126</td>\n",
       "      <td>30.886640</td>\n",
       "    </tr>\n",
       "    <tr>\n",
       "      <th>std</th>\n",
       "      <td>115.466735</td>\n",
       "      <td>8.004573</td>\n",
       "      <td>25.589555</td>\n",
       "      <td>5.751383</td>\n",
       "    </tr>\n",
       "    <tr>\n",
       "      <th>min</th>\n",
       "      <td>300.000000</td>\n",
       "      <td>7.000000</td>\n",
       "      <td>0.000000</td>\n",
       "      <td>18.000000</td>\n",
       "    </tr>\n",
       "    <tr>\n",
       "      <th>25%</th>\n",
       "      <td>1000.000000</td>\n",
       "      <td>15.000000</td>\n",
       "      <td>0.000000</td>\n",
       "      <td>27.000000</td>\n",
       "    </tr>\n",
       "    <tr>\n",
       "      <th>50%</th>\n",
       "      <td>1000.000000</td>\n",
       "      <td>30.000000</td>\n",
       "      <td>0.000000</td>\n",
       "      <td>30.000000</td>\n",
       "    </tr>\n",
       "    <tr>\n",
       "      <th>75%</th>\n",
       "      <td>1000.000000</td>\n",
       "      <td>30.000000</td>\n",
       "      <td>12.000000</td>\n",
       "      <td>35.000000</td>\n",
       "    </tr>\n",
       "    <tr>\n",
       "      <th>max</th>\n",
       "      <td>1000.000000</td>\n",
       "      <td>30.000000</td>\n",
       "      <td>76.000000</td>\n",
       "      <td>47.000000</td>\n",
       "    </tr>\n",
       "  </tbody>\n",
       "</table>\n",
       "</div>"
      ],
      "text/plain": [
       "         Principal       terms  past_due_days         age\n",
       "count   494.000000  494.000000     494.000000  494.000000\n",
       "mean    943.319838   22.858300      14.427126   30.886640\n",
       "std     115.466735    8.004573      25.589555    5.751383\n",
       "min     300.000000    7.000000       0.000000   18.000000\n",
       "25%    1000.000000   15.000000       0.000000   27.000000\n",
       "50%    1000.000000   30.000000       0.000000   30.000000\n",
       "75%    1000.000000   30.000000      12.000000   35.000000\n",
       "max    1000.000000   30.000000      76.000000   47.000000"
      ]
     },
     "execution_count": 407,
     "metadata": {},
     "output_type": "execute_result"
    }
   ],
   "source": [
    "loandf.describe()"
   ]
  },
  {
   "cell_type": "code",
   "execution_count": 534,
   "metadata": {},
   "outputs": [
    {
     "data": {
      "text/plain": [
       "effective_date\n",
       "9/8/2016       3\n",
       "9/9/2016      15\n",
       "9/13/2016     22\n",
       "9/14/2016     33\n",
       "9/10/2016     46\n",
       "9/12/2016    146\n",
       "9/11/2016    229\n",
       "Name: Loan_ID, dtype: int64"
      ]
     },
     "execution_count": 534,
     "metadata": {},
     "output_type": "execute_result"
    }
   ],
   "source": [
    "loandf.groupby('effective_date')[\"Loan_ID\"].count().sort_values()"
   ]
  },
  {
   "cell_type": "markdown",
   "metadata": {},
   "source": [
    "This dataset contains the data from 9/8/2016 to 9/11/2016 "
   ]
  },
  {
   "cell_type": "code",
   "execution_count": 408,
   "metadata": {},
   "outputs": [
    {
     "data": {
      "text/html": [
       "<div>\n",
       "<style scoped>\n",
       "    .dataframe tbody tr th:only-of-type {\n",
       "        vertical-align: middle;\n",
       "    }\n",
       "\n",
       "    .dataframe tbody tr th {\n",
       "        vertical-align: top;\n",
       "    }\n",
       "\n",
       "    .dataframe thead tr th {\n",
       "        text-align: left;\n",
       "    }\n",
       "\n",
       "    .dataframe thead tr:last-of-type th {\n",
       "        text-align: right;\n",
       "    }\n",
       "</style>\n",
       "<table border=\"1\" class=\"dataframe\">\n",
       "  <thead>\n",
       "    <tr>\n",
       "      <th></th>\n",
       "      <th colspan=\"2\" halign=\"left\">Principal</th>\n",
       "      <th colspan=\"2\" halign=\"left\">terms</th>\n",
       "      <th colspan=\"2\" halign=\"left\">past_due_days</th>\n",
       "      <th colspan=\"2\" halign=\"left\">age</th>\n",
       "    </tr>\n",
       "    <tr>\n",
       "      <th></th>\n",
       "      <th>count</th>\n",
       "      <th>mean</th>\n",
       "      <th>count</th>\n",
       "      <th>mean</th>\n",
       "      <th>count</th>\n",
       "      <th>mean</th>\n",
       "      <th>count</th>\n",
       "      <th>mean</th>\n",
       "    </tr>\n",
       "    <tr>\n",
       "      <th>education</th>\n",
       "      <th></th>\n",
       "      <th></th>\n",
       "      <th></th>\n",
       "      <th></th>\n",
       "      <th></th>\n",
       "      <th></th>\n",
       "      <th></th>\n",
       "      <th></th>\n",
       "    </tr>\n",
       "  </thead>\n",
       "  <tbody>\n",
       "    <tr>\n",
       "      <th>Bechalor</th>\n",
       "      <td>66</td>\n",
       "      <td>943.939394</td>\n",
       "      <td>66</td>\n",
       "      <td>21.333333</td>\n",
       "      <td>66</td>\n",
       "      <td>13.272727</td>\n",
       "      <td>66</td>\n",
       "      <td>31.863636</td>\n",
       "    </tr>\n",
       "    <tr>\n",
       "      <th>High School or Below</th>\n",
       "      <td>206</td>\n",
       "      <td>951.456311</td>\n",
       "      <td>206</td>\n",
       "      <td>23.684466</td>\n",
       "      <td>206</td>\n",
       "      <td>16.456311</td>\n",
       "      <td>206</td>\n",
       "      <td>31.111650</td>\n",
       "    </tr>\n",
       "    <tr>\n",
       "      <th>Master or Above</th>\n",
       "      <td>3</td>\n",
       "      <td>466.666667</td>\n",
       "      <td>3</td>\n",
       "      <td>9.666667</td>\n",
       "      <td>3</td>\n",
       "      <td>0.000000</td>\n",
       "      <td>3</td>\n",
       "      <td>37.000000</td>\n",
       "    </tr>\n",
       "    <tr>\n",
       "      <th>college</th>\n",
       "      <td>219</td>\n",
       "      <td>942.009132</td>\n",
       "      <td>219</td>\n",
       "      <td>22.721461</td>\n",
       "      <td>219</td>\n",
       "      <td>13.063927</td>\n",
       "      <td>219</td>\n",
       "      <td>30.296804</td>\n",
       "    </tr>\n",
       "  </tbody>\n",
       "</table>\n",
       "</div>"
      ],
      "text/plain": [
       "                     Principal             terms            past_due_days  \\\n",
       "                         count        mean count       mean         count   \n",
       "education                                                                   \n",
       "Bechalor                    66  943.939394    66  21.333333            66   \n",
       "High School or Below       206  951.456311   206  23.684466           206   \n",
       "Master or Above              3  466.666667     3   9.666667             3   \n",
       "college                    219  942.009132   219  22.721461           219   \n",
       "\n",
       "                                  age             \n",
       "                           mean count       mean  \n",
       "education                                         \n",
       "Bechalor              13.272727    66  31.863636  \n",
       "High School or Below  16.456311   206  31.111650  \n",
       "Master or Above        0.000000     3  37.000000  \n",
       "college               13.063927   219  30.296804  "
      ]
     },
     "execution_count": 408,
     "metadata": {},
     "output_type": "execute_result"
    }
   ],
   "source": [
    "loandf.groupby(\"education\").agg([\"count\",\"mean\"])"
   ]
  },
  {
   "cell_type": "code",
   "execution_count": 409,
   "metadata": {},
   "outputs": [
    {
     "data": {
      "text/html": [
       "<div>\n",
       "<style scoped>\n",
       "    .dataframe tbody tr th:only-of-type {\n",
       "        vertical-align: middle;\n",
       "    }\n",
       "\n",
       "    .dataframe tbody tr th {\n",
       "        vertical-align: top;\n",
       "    }\n",
       "\n",
       "    .dataframe thead tr th {\n",
       "        text-align: left;\n",
       "    }\n",
       "\n",
       "    .dataframe thead tr:last-of-type th {\n",
       "        text-align: right;\n",
       "    }\n",
       "</style>\n",
       "<table border=\"1\" class=\"dataframe\">\n",
       "  <thead>\n",
       "    <tr>\n",
       "      <th></th>\n",
       "      <th colspan=\"2\" halign=\"left\">Principal</th>\n",
       "      <th colspan=\"2\" halign=\"left\">terms</th>\n",
       "      <th colspan=\"2\" halign=\"left\">past_due_days</th>\n",
       "      <th colspan=\"2\" halign=\"left\">age</th>\n",
       "    </tr>\n",
       "    <tr>\n",
       "      <th></th>\n",
       "      <th>count</th>\n",
       "      <th>mean</th>\n",
       "      <th>count</th>\n",
       "      <th>mean</th>\n",
       "      <th>count</th>\n",
       "      <th>mean</th>\n",
       "      <th>count</th>\n",
       "      <th>mean</th>\n",
       "    </tr>\n",
       "    <tr>\n",
       "      <th>Gender</th>\n",
       "      <th></th>\n",
       "      <th></th>\n",
       "      <th></th>\n",
       "      <th></th>\n",
       "      <th></th>\n",
       "      <th></th>\n",
       "      <th></th>\n",
       "      <th></th>\n",
       "    </tr>\n",
       "  </thead>\n",
       "  <tbody>\n",
       "    <tr>\n",
       "      <th>female</th>\n",
       "      <td>75</td>\n",
       "      <td>944.000000</td>\n",
       "      <td>75</td>\n",
       "      <td>22.466667</td>\n",
       "      <td>75</td>\n",
       "      <td>9.813333</td>\n",
       "      <td>75</td>\n",
       "      <td>31.413333</td>\n",
       "    </tr>\n",
       "    <tr>\n",
       "      <th>male</th>\n",
       "      <td>419</td>\n",
       "      <td>943.198091</td>\n",
       "      <td>419</td>\n",
       "      <td>22.928401</td>\n",
       "      <td>419</td>\n",
       "      <td>15.252983</td>\n",
       "      <td>419</td>\n",
       "      <td>30.792363</td>\n",
       "    </tr>\n",
       "  </tbody>\n",
       "</table>\n",
       "</div>"
      ],
      "text/plain": [
       "       Principal             terms            past_due_days              age  \\\n",
       "           count        mean count       mean         count       mean count   \n",
       "Gender                                                                         \n",
       "female        75  944.000000    75  22.466667            75   9.813333    75   \n",
       "male         419  943.198091   419  22.928401           419  15.252983   419   \n",
       "\n",
       "                   \n",
       "             mean  \n",
       "Gender             \n",
       "female  31.413333  \n",
       "male    30.792363  "
      ]
     },
     "execution_count": 409,
     "metadata": {},
     "output_type": "execute_result"
    }
   ],
   "source": [
    "loandf.groupby(\"Gender\").agg([\"count\",\"mean\"])"
   ]
  },
  {
   "cell_type": "code",
   "execution_count": 410,
   "metadata": {
    "scrolled": false
   },
   "outputs": [
    {
     "data": {
      "text/html": [
       "<div>\n",
       "<style scoped>\n",
       "    .dataframe tbody tr th:only-of-type {\n",
       "        vertical-align: middle;\n",
       "    }\n",
       "\n",
       "    .dataframe tbody tr th {\n",
       "        vertical-align: top;\n",
       "    }\n",
       "\n",
       "    .dataframe thead tr th {\n",
       "        text-align: left;\n",
       "    }\n",
       "\n",
       "    .dataframe thead tr:last-of-type th {\n",
       "        text-align: right;\n",
       "    }\n",
       "</style>\n",
       "<table border=\"1\" class=\"dataframe\">\n",
       "  <thead>\n",
       "    <tr>\n",
       "      <th></th>\n",
       "      <th colspan=\"2\" halign=\"left\">Principal</th>\n",
       "      <th colspan=\"2\" halign=\"left\">terms</th>\n",
       "      <th colspan=\"2\" halign=\"left\">past_due_days</th>\n",
       "      <th colspan=\"2\" halign=\"left\">age</th>\n",
       "    </tr>\n",
       "    <tr>\n",
       "      <th></th>\n",
       "      <th>count</th>\n",
       "      <th>mean</th>\n",
       "      <th>count</th>\n",
       "      <th>mean</th>\n",
       "      <th>count</th>\n",
       "      <th>mean</th>\n",
       "      <th>count</th>\n",
       "      <th>mean</th>\n",
       "    </tr>\n",
       "    <tr>\n",
       "      <th>loan_status</th>\n",
       "      <th></th>\n",
       "      <th></th>\n",
       "      <th></th>\n",
       "      <th></th>\n",
       "      <th></th>\n",
       "      <th></th>\n",
       "      <th></th>\n",
       "      <th></th>\n",
       "    </tr>\n",
       "  </thead>\n",
       "  <tbody>\n",
       "    <tr>\n",
       "      <th>COLLECTION</th>\n",
       "      <td>99</td>\n",
       "      <td>953.535354</td>\n",
       "      <td>99</td>\n",
       "      <td>23.939394</td>\n",
       "      <td>99</td>\n",
       "      <td>62.747475</td>\n",
       "      <td>99</td>\n",
       "      <td>30.414141</td>\n",
       "    </tr>\n",
       "    <tr>\n",
       "      <th>COLLECTION_PAIDOFF</th>\n",
       "      <td>99</td>\n",
       "      <td>956.565657</td>\n",
       "      <td>99</td>\n",
       "      <td>23.858586</td>\n",
       "      <td>99</td>\n",
       "      <td>9.242424</td>\n",
       "      <td>99</td>\n",
       "      <td>31.161616</td>\n",
       "    </tr>\n",
       "    <tr>\n",
       "      <th>PAIDOFF</th>\n",
       "      <td>296</td>\n",
       "      <td>935.472973</td>\n",
       "      <td>296</td>\n",
       "      <td>22.162162</td>\n",
       "      <td>296</td>\n",
       "      <td>0.000000</td>\n",
       "      <td>296</td>\n",
       "      <td>30.952703</td>\n",
       "    </tr>\n",
       "  </tbody>\n",
       "</table>\n",
       "</div>"
      ],
      "text/plain": [
       "                   Principal             terms            past_due_days  \\\n",
       "                       count        mean count       mean         count   \n",
       "loan_status                                                               \n",
       "COLLECTION                99  953.535354    99  23.939394            99   \n",
       "COLLECTION_PAIDOFF        99  956.565657    99  23.858586            99   \n",
       "PAIDOFF                  296  935.472973   296  22.162162           296   \n",
       "\n",
       "                                age             \n",
       "                         mean count       mean  \n",
       "loan_status                                     \n",
       "COLLECTION          62.747475    99  30.414141  \n",
       "COLLECTION_PAIDOFF   9.242424    99  31.161616  \n",
       "PAIDOFF              0.000000   296  30.952703  "
      ]
     },
     "execution_count": 410,
     "metadata": {},
     "output_type": "execute_result"
    }
   ],
   "source": [
    "loandf.groupby(\"loan_status\").agg([\"count\",\"mean\"])"
   ]
  },
  {
   "cell_type": "markdown",
   "metadata": {},
   "source": [
    "**Target variable**"
   ]
  },
  {
   "cell_type": "code",
   "execution_count": 411,
   "metadata": {},
   "outputs": [
    {
     "data": {
      "text/plain": [
       "PAIDOFF               296\n",
       "COLLECTION             99\n",
       "COLLECTION_PAIDOFF     99\n",
       "Name: loan_status, dtype: int64"
      ]
     },
     "execution_count": 411,
     "metadata": {},
     "output_type": "execute_result"
    }
   ],
   "source": [
    "loandf[\"loan_status\"].value_counts()"
   ]
  },
  {
   "cell_type": "markdown",
   "metadata": {},
   "source": [
    "Add a new column in order to answer a question which is **What is the maximum/average daily re-payment people manage to pay back?**"
   ]
  },
  {
   "cell_type": "code",
   "execution_count": 412,
   "metadata": {},
   "outputs": [],
   "source": [
    "loandf[\"Daily payment\"] = loandf[\"Principal\"] / loandf[\"terms\"]"
   ]
  },
  {
   "cell_type": "code",
   "execution_count": 531,
   "metadata": {},
   "outputs": [
    {
     "data": {
      "text/html": [
       "<div>\n",
       "<style scoped>\n",
       "    .dataframe tbody tr th:only-of-type {\n",
       "        vertical-align: middle;\n",
       "    }\n",
       "\n",
       "    .dataframe tbody tr th {\n",
       "        vertical-align: top;\n",
       "    }\n",
       "\n",
       "    .dataframe thead th {\n",
       "        text-align: right;\n",
       "    }\n",
       "</style>\n",
       "<table border=\"1\" class=\"dataframe\">\n",
       "  <thead>\n",
       "    <tr style=\"text-align: right;\">\n",
       "      <th></th>\n",
       "      <th>Loan_ID</th>\n",
       "      <th>loan_status</th>\n",
       "      <th>Principal</th>\n",
       "      <th>terms</th>\n",
       "      <th>effective_date</th>\n",
       "      <th>due_date</th>\n",
       "      <th>paid_off_time</th>\n",
       "      <th>past_due_days</th>\n",
       "      <th>age</th>\n",
       "      <th>education</th>\n",
       "      <th>Gender</th>\n",
       "      <th>Daily payment</th>\n",
       "    </tr>\n",
       "  </thead>\n",
       "  <tbody>\n",
       "    <tr>\n",
       "      <th>0</th>\n",
       "      <td>xqd20166231</td>\n",
       "      <td>PAIDOFF</td>\n",
       "      <td>1000</td>\n",
       "      <td>30</td>\n",
       "      <td>9/8/2016</td>\n",
       "      <td>10/7/2016</td>\n",
       "      <td>9/14/2016 19:31</td>\n",
       "      <td>0.0</td>\n",
       "      <td>45</td>\n",
       "      <td>High School or Below</td>\n",
       "      <td>male</td>\n",
       "      <td>33.333333</td>\n",
       "    </tr>\n",
       "    <tr>\n",
       "      <th>2</th>\n",
       "      <td>xqd20160003</td>\n",
       "      <td>PAIDOFF</td>\n",
       "      <td>1000</td>\n",
       "      <td>30</td>\n",
       "      <td>9/8/2016</td>\n",
       "      <td>10/7/2016</td>\n",
       "      <td>9/25/2016 16:58</td>\n",
       "      <td>0.0</td>\n",
       "      <td>33</td>\n",
       "      <td>Bechalor</td>\n",
       "      <td>female</td>\n",
       "      <td>33.333333</td>\n",
       "    </tr>\n",
       "  </tbody>\n",
       "</table>\n",
       "</div>"
      ],
      "text/plain": [
       "       Loan_ID loan_status  Principal  terms effective_date   due_date  \\\n",
       "0  xqd20166231     PAIDOFF       1000     30       9/8/2016  10/7/2016   \n",
       "2  xqd20160003     PAIDOFF       1000     30       9/8/2016  10/7/2016   \n",
       "\n",
       "     paid_off_time  past_due_days  age             education  Gender  \\\n",
       "0  9/14/2016 19:31            0.0   45  High School or Below    male   \n",
       "2  9/25/2016 16:58            0.0   33              Bechalor  female   \n",
       "\n",
       "   Daily payment  \n",
       "0      33.333333  \n",
       "2      33.333333  "
      ]
     },
     "execution_count": 531,
     "metadata": {},
     "output_type": "execute_result"
    }
   ],
   "source": [
    "loandf.head(2)"
   ]
  },
  {
   "cell_type": "markdown",
   "metadata": {},
   "source": [
    "## Data visualization / Descriptive analytics"
   ]
  },
  {
   "cell_type": "code",
   "execution_count": 472,
   "metadata": {
    "scrolled": true
   },
   "outputs": [
    {
     "data": {
      "text/plain": [
       "<matplotlib.axes._subplots.AxesSubplot at 0x1a21b92550>"
      ]
     },
     "execution_count": 472,
     "metadata": {},
     "output_type": "execute_result"
    },
    {
     "data": {
      "image/png": "[encoded data removed]",
      "text/plain": [
       "<Figure size 432x288 with 1 Axes>"
      ]
     },
     "metadata": {},
     "output_type": "display_data"
    }
   ],
   "source": [
    "sns.countplot(\"education\", data = loandf)"
   ]
  },
  {
   "cell_type": "markdown",
   "metadata": {},
   "source": [
    "Notice in the above plot:\n",
    "    \n",
    "Those with a master’s degree or higher have less of a tendency to take out a loan than those with a lesser degree of education"
   ]
  },
  {
   "cell_type": "code",
   "execution_count": 414,
   "metadata": {},
   "outputs": [
    {
     "data": {
      "text/plain": [
       "<matplotlib.axes._subplots.AxesSubplot at 0x1a209a36a0>"
      ]
     },
     "execution_count": 414,
     "metadata": {},
     "output_type": "execute_result"
    },
    {
     "data": {
      "image/png": "[encoded data removed]",
      "text/plain": [
       "<Figure size 432x288 with 1 Axes>"
      ]
     },
     "metadata": {},
     "output_type": "display_data"
    }
   ],
   "source": [
    "sns.countplot(\"Principal\", data = loandf)"
   ]
  },
  {
   "cell_type": "markdown",
   "metadata": {},
   "source": [
    "Notice in the above plot: \n",
    "\n",
    "Most people borrow loan for $1000."
   ]
  },
  {
   "cell_type": "code",
   "execution_count": 415,
   "metadata": {},
   "outputs": [
    {
     "data": {
      "text/plain": [
       "<matplotlib.axes._subplots.AxesSubplot at 0x1a20854550>"
      ]
     },
     "execution_count": 415,
     "metadata": {},
     "output_type": "execute_result"
    },
    {
     "data": {
      "image/png": "[encoded data removed]",
      "text/plain": [
       "<Figure size 432x288 with 1 Axes>"
      ]
     },
     "metadata": {},
     "output_type": "display_data"
    }
   ],
   "source": [
    "sns.countplot(\"loan_status\", data = loandf)"
   ]
  },
  {
   "cell_type": "markdown",
   "metadata": {},
   "source": [
    "Notice in the above plot: \n",
    "\n",
    "In this dataset, 3/5 of people paid off on time"
   ]
  },
  {
   "cell_type": "code",
   "execution_count": 416,
   "metadata": {},
   "outputs": [
    {
     "data": {
      "text/plain": [
       "<matplotlib.axes._subplots.AxesSubplot at 0x1a20aa78d0>"
      ]
     },
     "execution_count": 416,
     "metadata": {},
     "output_type": "execute_result"
    },
    {
     "data": {
      "image/png": "[encoded data removed]",
      "text/plain": [
       "<Figure size 432x288 with 1 Axes>"
      ]
     },
     "metadata": {},
     "output_type": "display_data"
    }
   ],
   "source": [
    "sns.countplot('terms', data = loandf)"
   ]
  },
  {
   "cell_type": "markdown",
   "metadata": {},
   "source": [
    "Notice in the above plot: \n",
    "\n",
    "In this dataset of loan data, people choose monthly pay off schedule more than others."
   ]
  },
  {
   "cell_type": "code",
   "execution_count": 471,
   "metadata": {
    "scrolled": true
   },
   "outputs": [
    {
     "data": {
      "text/plain": [
       "Text(0.5,1,'Gender counts by Loan Status')"
      ]
     },
     "execution_count": 471,
     "metadata": {},
     "output_type": "execute_result"
    },
    {
     "data": {
      "image/png": "[encoded data removed]",
      "text/plain": [
       "<Figure size 432x288 with 1 Axes>"
      ]
     },
     "metadata": {},
     "output_type": "display_data"
    }
   ],
   "source": [
    "sns.countplot(x='education', hue='Principal', data=loandf)\n",
    "plt.title('Gender counts by Loan Status')"
   ]
  },
  {
   "cell_type": "code",
   "execution_count": 468,
   "metadata": {},
   "outputs": [
    {
     "name": "stdout",
     "output_type": "stream",
     "text": [
      "Number of borrowers who have college degree: 219\n",
      "Number of borrowers who have High School or Below: 206\n"
     ]
    }
   ],
   "source": [
    "print(\"Number of borrowers who have college degree:\", sum(loandf[\"education\"] == \"college\"))\n",
    "print(\"Number of borrowers who have High School or Below:\", sum(loandf[\"education\"] == \"High School or Below\"))"
   ]
  },
  {
   "cell_type": "markdown",
   "metadata": {},
   "source": [
    "Notice in the above plot: \n",
    "\n",
    "Those with a **Master’s degree** or higher have less of a tendency to take out a loan than those with a lesser degree of education"
   ]
  },
  {
   "cell_type": "code",
   "execution_count": 417,
   "metadata": {
    "scrolled": false
   },
   "outputs": [
    {
     "data": {
      "text/plain": [
       "Text(0.5,1,'Gender counts by Loan Status')"
      ]
     },
     "execution_count": 417,
     "metadata": {},
     "output_type": "execute_result"
    },
    {
     "data": {
      "image/png": "[encoded data removed]",
      "text/plain": [
       "<Figure size 432x288 with 1 Axes>"
      ]
     },
     "metadata": {},
     "output_type": "display_data"
    }
   ],
   "source": [
    "sns.countplot(x='Gender', hue='loan_status', data=loandf)\n",
    "plt.title('Gender counts by Loan Status')"
   ]
  },
  {
   "cell_type": "code",
   "execution_count": 453,
   "metadata": {},
   "outputs": [
    {
     "name": "stdout",
     "output_type": "stream",
     "text": [
      "Number of men who pay off their loan:  244\n",
      "Number of women who pay off their loan:  52\n"
     ]
    }
   ],
   "source": [
    "print(\"Number of men who pay off their loan: \", \n",
    "      loandf[(loandf['Gender'] == \"male\") & \n",
    "       (loandf[\"loan_status\"] == \"PAIDOFF\")].count()[1])\n",
    "\n",
    "print(\"Number of women who pay off their loan: \", \n",
    "      loandf[(loandf['Gender'] == \"female\") & \n",
    "       (loandf[\"loan_status\"] == \"PAIDOFF\")].count()[1])"
   ]
  },
  {
   "cell_type": "code",
   "execution_count": 454,
   "metadata": {},
   "outputs": [
    {
     "name": "stdout",
     "output_type": "stream",
     "text": [
      "Number of men who borrower the loan: 419\n",
      "Number of women who borrower the loan: 75\n"
     ]
    }
   ],
   "source": [
    "print(\"Number of men who borrower the loan:\", sum(loandf['Gender'] == \"male\") )\n",
    "print(\"Number of women who borrower the loan:\", sum(loandf['Gender'] == \"female\") )"
   ]
  },
  {
   "cell_type": "code",
   "execution_count": 456,
   "metadata": {},
   "outputs": [
    {
     "name": "stdout",
     "output_type": "stream",
     "text": [
      "Percentage of men who pay off their loan: 0.58\n",
      "Percentage of women who pay off their loan: 0.69\n"
     ]
    }
   ],
   "source": [
    "print(\"Percentage of men who pay off their loan:\", \n",
    "      round(244/419,2))\n",
    "print(\"Percentage of women who pay off their loan:\",\n",
    "      round(52/75,2))"
   ]
  },
  {
   "cell_type": "markdown",
   "metadata": {},
   "source": [
    "Notice in the above plot: \n",
    "\n",
    "In this dataset of loan data, Men borrow more often than Women. Moreover, women pay off their loans more reliably than men"
   ]
  },
  {
   "cell_type": "code",
   "execution_count": 418,
   "metadata": {
    "scrolled": false
   },
   "outputs": [
    {
     "data": {
      "text/plain": [
       "Text(0.5,1,'Principal counts by Loan Status')"
      ]
     },
     "execution_count": 418,
     "metadata": {},
     "output_type": "execute_result"
    },
    {
     "data": {
      "image/png": "[encoded data removed]",
      "text/plain": [
       "<Figure size 432x288 with 1 Axes>"
      ]
     },
     "metadata": {},
     "output_type": "display_data"
    }
   ],
   "source": [
    "sns.countplot(x='Principal', hue='loan_status', data=loandf)\n",
    "plt.legend(bbox_to_anchor=(1.05, 1), loc=2, borderaxespad=0.)\n",
    "plt.title('Principal counts by Loan Status')"
   ]
  },
  {
   "cell_type": "markdown",
   "metadata": {},
   "source": [
    "Notice in the above plot: \n",
    "\n",
    "In this dataset of loan data, most people borrow $1000."
   ]
  },
  {
   "cell_type": "code",
   "execution_count": 419,
   "metadata": {
    "scrolled": false
   },
   "outputs": [
    {
     "data": {
      "text/plain": [
       "<matplotlib.axes._subplots.AxesSubplot at 0x1a20df0588>"
      ]
     },
     "execution_count": 419,
     "metadata": {},
     "output_type": "execute_result"
    },
    {
     "data": {
      "image/png": "[encoded data removed]",
      "text/plain": [
       "<Figure size 432x288 with 1 Axes>"
      ]
     },
     "metadata": {},
     "output_type": "display_data"
    }
   ],
   "source": [
    "sns.distplot(loandf[\"age\"], kde = False)"
   ]
  },
  {
   "cell_type": "markdown",
   "metadata": {},
   "source": [
    "Notice in the above plot: \n",
    "\n",
    "Most of people who take out a loan are **25-35** years old."
   ]
  },
  {
   "cell_type": "code",
   "execution_count": 420,
   "metadata": {
    "scrolled": true
   },
   "outputs": [
    {
     "data": {
      "text/plain": [
       "<matplotlib.legend.Legend at 0x1a20e39438>"
      ]
     },
     "execution_count": 420,
     "metadata": {},
     "output_type": "execute_result"
    },
    {
     "data": {
      "image/png": "[encoded data removed]",
      "text/plain": [
       "<Figure size 864x576 with 1 Axes>"
      ]
     },
     "metadata": {},
     "output_type": "display_data"
    }
   ],
   "source": [
    "plt.figure(figsize=(12,8))\n",
    "sns.countplot(x='age', hue='loan_status', data=loandf)\n",
    "plt.legend(bbox_to_anchor=(1.05, 1), loc=2, borderaxespad=0.)"
   ]
  },
  {
   "cell_type": "markdown",
   "metadata": {},
   "source": [
    "Notice in the above plot: \n",
    "\n",
    "Regardless of age, most people still manage to pay off their loans on time."
   ]
  },
  {
   "cell_type": "code",
   "execution_count": 425,
   "metadata": {
    "scrolled": false
   },
   "outputs": [
    {
     "data": {
      "text/plain": [
       "Text(0.5,1,'Education counts by Loan Status')"
      ]
     },
     "execution_count": 425,
     "metadata": {},
     "output_type": "execute_result"
    },
    {
     "data": {
      "image/png": "[encoded data removed]",
      "text/plain": [
       "<Figure size 432x288 with 1 Axes>"
      ]
     },
     "metadata": {},
     "output_type": "display_data"
    }
   ],
   "source": [
    "sns.countplot(x='education', hue='loan_status', data=loandf)\n",
    "plt.legend(bbox_to_anchor=(1.05, 1), loc=2, borderaxespad=0.)\n",
    "plt.title('Education counts by Loan Status')"
   ]
  },
  {
   "cell_type": "code",
   "execution_count": 445,
   "metadata": {},
   "outputs": [
    {
     "name": "stdout",
     "output_type": "stream",
     "text": [
      "Number of people with a Bachelor's degree who pay off their loan:  40\n",
      "Number of people with a High School or Below degree who pay off their loan: 121\n",
      "Number of people with a college degree who pay off their loan: 132\n"
     ]
    }
   ],
   "source": [
    "print(\"Number of people with a Bachelor's degree who pay off their loan: \", loandf[(loandf[\"education\"] == \"Bechalor\") & \n",
    "       (loandf[\"loan_status\"] == \"PAIDOFF\")].count()[1])\n",
    "\n",
    "print(\"Number of people with a High School or Below degree who pay off their loan:\", loandf[(loandf[\"education\"] == \"High School or Below\") & \n",
    "       (loandf[\"loan_status\"] == \"PAIDOFF\")].count()[1])\n",
    "\n",
    "print(\"Number of people with a college degree who pay off their loan:\", loandf[(loandf[\"education\"] == \"college\") & \n",
    "       (loandf[\"loan_status\"] == \"PAIDOFF\")].count()[1])"
   ]
  },
  {
   "cell_type": "code",
   "execution_count": 446,
   "metadata": {},
   "outputs": [
    {
     "name": "stdout",
     "output_type": "stream",
     "text": [
      "Number of borrowers with a Bachelor's degree: 66\n",
      "Number of borrowers with a High School or Below degree: 206\n",
      "Number of borrowers with a college degree: 219\n"
     ]
    }
   ],
   "source": [
    "print(\"Number of borrowers with a Bachelor's degree:\", sum(loandf[\"education\"] == \"Bechalor\") )\n",
    "print(\"Number of borrowers with a High School or Below degree:\", sum(loandf[\"education\"] == \"High School or Below\"))\n",
    "print(\"Number of borrowers with a college degree:\", sum(loandf[\"education\"] == \"college\"))"
   ]
  },
  {
   "cell_type": "code",
   "execution_count": 447,
   "metadata": {},
   "outputs": [
    {
     "name": "stdout",
     "output_type": "stream",
     "text": [
      "Percentage of borrowers with a Bachelor's degree who pay off their loan: 0.61\n",
      "Percentage of borrowers with a High School or Below degree who pay off their loan: 0.59\n",
      "Percentage of borrowers with a college degree who pay off their loan: 0.6\n"
     ]
    }
   ],
   "source": [
    "print(\"Percentage of borrowers with a Bachelor's degree who pay off their loan:\" ,round(40/66,2))\n",
    "print(\"Percentage of borrowers with a High School or Below degree who pay off their loan:\" ,round(121/206,2))\n",
    "print(\"Percentage of borrowers with a college degree who pay off their loan:\" ,round(132/219,2))"
   ]
  },
  {
   "cell_type": "markdown",
   "metadata": {},
   "source": [
    "Notice in the above plot:\n",
    "\n",
    "For each of the levels of education, about 60% of borrowers in the database repay their loan. So the likelihood of loan repayment doesn't seem to vary based on the education level of the borrowers."
   ]
  },
  {
   "cell_type": "code",
   "execution_count": 322,
   "metadata": {
    "scrolled": false
   },
   "outputs": [
    {
     "data": {
      "text/plain": [
       "Text(0.5,1,'Term counts by Loan Status')"
      ]
     },
     "execution_count": 322,
     "metadata": {},
     "output_type": "execute_result"
    },
    {
     "data": {
      "image/png": "[encoded data removed]",
      "text/plain": [
       "<Figure size 432x288 with 1 Axes>"
      ]
     },
     "metadata": {},
     "output_type": "display_data"
    }
   ],
   "source": [
    "sns.countplot(x='terms', hue=\"loan_status\", data=loandf)\n",
    "plt.legend(bbox_to_anchor=(1.05, 1), loc=2, borderaxespad=0.)\n",
    "plt.title('Term counts by Loan Status')"
   ]
  },
  {
   "cell_type": "code",
   "execution_count": 478,
   "metadata": {},
   "outputs": [
    {
     "name": "stdout",
     "output_type": "stream",
     "text": [
      "Number of people who choose term 7 pay off their loan:  20\n",
      "Number of people who choose term 15 pay off their loan: 124\n",
      "Number of people who choose term 30 pay off their loan: 152\n"
     ]
    }
   ],
   "source": [
    "print(\"Number of people who choose term 7 pay off their loan: \", loandf[(loandf[\"terms\"] == 7) & \n",
    "       (loandf[\"loan_status\"] == \"PAIDOFF\")].count()[1])\n",
    "\n",
    "print(\"Number of people who choose term 15 pay off their loan:\", loandf[(loandf[\"terms\"] == 15) & \n",
    "       (loandf[\"loan_status\"] == \"PAIDOFF\")].count()[1])\n",
    "\n",
    "print(\"Number of people who choose term 30 pay off their loan:\", loandf[(loandf[\"terms\"] == 30) & \n",
    "       (loandf[\"loan_status\"] == \"PAIDOFF\")].count()[1])"
   ]
  },
  {
   "cell_type": "code",
   "execution_count": 476,
   "metadata": {},
   "outputs": [
    {
     "name": "stdout",
     "output_type": "stream",
     "text": [
      "Number of borrowers choose term 7: 21\n",
      "Number of borrowers choose term 15: 203\n",
      "Number of borrowers choose term 30: 270\n"
     ]
    }
   ],
   "source": [
    "print(\"Number of borrowers choose term 7:\", sum(loandf[\"terms\"] == 7) )\n",
    "print(\"Number of borrowers choose term 15:\", sum(loandf[\"terms\"] == 15))\n",
    "print(\"Number of borrowers choose term 30:\", sum(loandf[\"terms\"] == 30))"
   ]
  },
  {
   "cell_type": "code",
   "execution_count": 480,
   "metadata": {},
   "outputs": [
    {
     "name": "stdout",
     "output_type": "stream",
     "text": [
      "Percentage of borrowers who choose term 7 pay off their loan: 0.95\n",
      "Percentage of borrowers who choose term 15 pay off their loan: 0.61\n",
      "Percentage of borrowers who choose term 30 pay off their loan: 0.56\n"
     ]
    }
   ],
   "source": [
    "print(\"Percentage of borrowers who choose term 7 pay off their loan:\" , round(20/21,2))\n",
    "print(\"Percentage of borrowers who choose term 15 pay off their loan:\" , round(124/203,2))\n",
    "print(\"Percentage of borrowers who choose term 30 pay off their loan:\" , round(152/270,2))"
   ]
  },
  {
   "cell_type": "markdown",
   "metadata": {},
   "source": [
    "Notice in the above plot: \n",
    "\n",
    "In this dataset of loan data, in each term of loan, most people pay off on time. Moreover, people who choose term 7 have the highest pay off rate. It's because the sample size is too small. It's only 22 records and one person didnt pay off on time."
   ]
  },
  {
   "cell_type": "code",
   "execution_count": 458,
   "metadata": {
    "scrolled": true
   },
   "outputs": [
    {
     "data": {
      "text/plain": [
       "Text(0.5,1,'Gender counts by principal')"
      ]
     },
     "execution_count": 458,
     "metadata": {},
     "output_type": "execute_result"
    },
    {
     "data": {
      "image/png": "[encoded data removed]",
      "text/plain": [
       "<Figure size 432x288 with 1 Axes>"
      ]
     },
     "metadata": {},
     "output_type": "display_data"
    }
   ],
   "source": [
    "sns.countplot(x='Gender', hue=\"Principal\", data=loandf)\n",
    "plt.legend(bbox_to_anchor=(1.05, 1), loc=2, borderaxespad=0.)\n",
    "plt.title('Gender counts by principal')"
   ]
  },
  {
   "cell_type": "markdown",
   "metadata": {},
   "source": [
    "Notice in the above plot: \n",
    "\n",
    "In the loan dataset, men take out for more $1000 loans than women."
   ]
  },
  {
   "cell_type": "code",
   "execution_count": 530,
   "metadata": {},
   "outputs": [
    {
     "data": {
      "text/plain": [
       "Text(0.5,1,'Gender counts by principal')"
      ]
     },
     "execution_count": 530,
     "metadata": {},
     "output_type": "execute_result"
    },
    {
     "data": {
      "image/png": "[encoded data removed]",
      "text/plain": [
       "<Figure size 432x288 with 1 Axes>"
      ]
     },
     "metadata": {},
     "output_type": "display_data"
    }
   ],
   "source": [
    "sns.countplot(x='terms', hue=\"Principal\", data=loandf)\n",
    "plt.legend(bbox_to_anchor=(1.05, 1), loc=2, borderaxespad=0.)\n",
    "plt.title('Gender counts by principal')"
   ]
  },
  {
   "cell_type": "code",
   "execution_count": 513,
   "metadata": {
    "scrolled": true
   },
   "outputs": [
    {
     "name": "stdout",
     "output_type": "stream",
     "text": [
      "The maximum daily re-payment people manage to pay back when people choose term 7: $142.86\n",
      "The maximum daily re-payment people manage to pay back when people choose term 15: $66.67\n",
      "The maximum daily re-payment people manage to pay back when people choose term 30: $33.33\n"
     ]
    }
   ],
   "source": [
    "print(\"The maximum daily re-payment people manage to pay back when people choose term 7: ${}\"\n",
    "      .format(round(loandf[loandf[\"terms\"] == 7][\"Daily payment\"].max(),2)))\n",
    "print(\"The maximum daily re-payment people manage to pay back when people choose term 15: ${}\"\n",
    "      .format(round(loandf[loandf[\"terms\"] == 15][\"Daily payment\"].max(),2)))\n",
    "print(\"The maximum daily re-payment people manage to pay back when people choose term 30: ${}\"\n",
    "      .format(round(loandf[loandf[\"terms\"] == 30][\"Daily payment\"].max(),2)))"
   ]
  },
  {
   "cell_type": "code",
   "execution_count": 529,
   "metadata": {
    "scrolled": true
   },
   "outputs": [
    {
     "name": "stdout",
     "output_type": "stream",
     "text": [
      "The average daily re-payment people manage to pay back when people choose term 7: $107.48\n",
      "The average daily re-payment people manage to pay back when people choose term 15: $59.57\n",
      "The average daily re-payment people manage to pay back when people choose term 30: $33.19\n"
     ]
    }
   ],
   "source": [
    "print(\"The average daily re-payment people manage to pay back when people choose term 7: ${}\"\n",
    "      .format( round(loandf[loandf[\"terms\"] == 7][\"Daily payment\"].mean(),2)))\n",
    "print(\"The average daily re-payment people manage to pay back when people choose term 15: ${}\"\n",
    "      .format(round(loandf[loandf[\"terms\"] == 15][\"Daily payment\"].mean(),2)))\n",
    "print(\"The average daily re-payment people manage to pay back when people choose term 30: ${}\"\n",
    "      .format(round(loandf[loandf[\"terms\"] == 30][\"Daily payment\"].mean(),2)))"
   ]
  },
  {
   "cell_type": "markdown",
   "metadata": {},
   "source": [
    "Notice in the above plot:\n",
    "    \n",
    "It looks like columns terms and principal have high correlation."
   ]
  },
  {
   "cell_type": "markdown",
   "metadata": {},
   "source": [
    "**Testing correlation**"
   ]
  },
  {
   "cell_type": "code",
   "execution_count": 15,
   "metadata": {},
   "outputs": [
    {
     "data": {
      "text/html": [
       "<div>\n",
       "<style scoped>\n",
       "    .dataframe tbody tr th:only-of-type {\n",
       "        vertical-align: middle;\n",
       "    }\n",
       "\n",
       "    .dataframe tbody tr th {\n",
       "        vertical-align: top;\n",
       "    }\n",
       "\n",
       "    .dataframe thead th {\n",
       "        text-align: right;\n",
       "    }\n",
       "</style>\n",
       "<table border=\"1\" class=\"dataframe\">\n",
       "  <thead>\n",
       "    <tr style=\"text-align: right;\">\n",
       "      <th></th>\n",
       "      <th>Principal</th>\n",
       "      <th>terms</th>\n",
       "      <th>past_due_days</th>\n",
       "      <th>age</th>\n",
       "    </tr>\n",
       "  </thead>\n",
       "  <tbody>\n",
       "    <tr>\n",
       "      <th>Principal</th>\n",
       "      <td>1.000000</td>\n",
       "      <td>0.534302</td>\n",
       "      <td>-0.093139</td>\n",
       "      <td>-0.092613</td>\n",
       "    </tr>\n",
       "    <tr>\n",
       "      <th>terms</th>\n",
       "      <td>0.534302</td>\n",
       "      <td>1.000000</td>\n",
       "      <td>-0.102613</td>\n",
       "      <td>-0.074259</td>\n",
       "    </tr>\n",
       "    <tr>\n",
       "      <th>past_due_days</th>\n",
       "      <td>-0.093139</td>\n",
       "      <td>-0.102613</td>\n",
       "      <td>1.000000</td>\n",
       "      <td>-0.053849</td>\n",
       "    </tr>\n",
       "    <tr>\n",
       "      <th>age</th>\n",
       "      <td>-0.092613</td>\n",
       "      <td>-0.074259</td>\n",
       "      <td>-0.053849</td>\n",
       "      <td>1.000000</td>\n",
       "    </tr>\n",
       "  </tbody>\n",
       "</table>\n",
       "</div>"
      ],
      "text/plain": [
       "               Principal     terms  past_due_days       age\n",
       "Principal       1.000000  0.534302      -0.093139 -0.092613\n",
       "terms           0.534302  1.000000      -0.102613 -0.074259\n",
       "past_due_days  -0.093139 -0.102613       1.000000 -0.053849\n",
       "age            -0.092613 -0.074259      -0.053849  1.000000"
      ]
     },
     "execution_count": 15,
     "metadata": {},
     "output_type": "execute_result"
    }
   ],
   "source": [
    "loandf.corr()"
   ]
  },
  {
   "cell_type": "code",
   "execution_count": 491,
   "metadata": {
    "scrolled": true
   },
   "outputs": [
    {
     "data": {
      "text/plain": [
       "<matplotlib.axes._subplots.AxesSubplot at 0x1a21eb1748>"
      ]
     },
     "execution_count": 491,
     "metadata": {},
     "output_type": "execute_result"
    },
    {
     "data": {
      "image/png": "[encoded data removed]",
      "text/plain": [
       "<Figure size 432x288 with 2 Axes>"
      ]
     },
     "metadata": {},
     "output_type": "display_data"
    }
   ],
   "source": [
    "sns.heatmap(loandf.corr(), annot= True)"
   ]
  },
  {
   "cell_type": "markdown",
   "metadata": {},
   "source": [
    "Notice in the above plot:\n",
    "\n",
    "It looks like columns **terms** and **Principal** have some relationship."
   ]
  },
  {
   "cell_type": "markdown",
   "metadata": {},
   "source": [
    "## Analysis"
   ]
  },
  {
   "cell_type": "markdown",
   "metadata": {},
   "source": [
    "* Do women tend to pay off their loans more reliably than men?\n",
    "\n",
    "  A: Women pay off their loans more reliably than men.\n",
    "  \n",
    "___"
   ]
  },
  {
   "cell_type": "markdown",
   "metadata": {},
   "source": [
    "* Do women tend to take out larger or smaller loans than men?\n",
    "  \n",
    "  A: In the loan dataset, men take out for more $1000 loans than women.\n",
    "  \n",
    "---"
   ]
  },
  {
   "cell_type": "markdown",
   "metadata": {},
   "source": [
    "* Do older people tend to pay off their loans more reliably?\n",
    "  \n",
    "  A: **Younger people** pay off their loans more reliably than older people.\n",
    "___"
   ]
  },
  {
   "cell_type": "markdown",
   "metadata": {},
   "source": [
    "* Do people have higher education tend to pay off their loans more reliably?\n",
    "\n",
    "  A: For each of the levels of education, about 60% of borrowers in the database repay their loan. So the likelihood of loan repayment doesn't seem to vary based on the education level of the borrowers.\n",
    "___"
   ]
  },
  {
   "cell_type": "markdown",
   "metadata": {},
   "source": [
    "* What is the term of loan people usually choose?\n",
    "\n",
    "  A: People choose monthly pay off schedule more than others.\n",
    "___"
   ]
  },
  {
   "cell_type": "markdown",
   "metadata": {},
   "source": [
    "* Do higher education people borrow more? \n",
    "  \n",
    "  A: Those with a **master’s degree or higher** have less of a tendency to take out a loan than those with a lesser degree of education.\n",
    "___"
   ]
  },
  {
   "cell_type": "markdown",
   "metadata": {},
   "source": [
    "* Which age range borrows more? \n",
    "\n",
    "  A: Most of people who take out a loan are **25-35 years old**.\n",
    "___"
   ]
  },
  {
   "cell_type": "markdown",
   "metadata": {},
   "source": [
    "* Of the loans that people usually pay off, what are the terms of those loans?\n",
    "\n",
    "  A: In this dataset of loan data, in each term of loan, most people pay loan off on time. However, people who choose term **7** have the **highest pay off rate**. It's because the sample size is too small. **It's only 22 records and one person didnt pay off on time**.\n",
    "___"
   ]
  },
  {
   "cell_type": "markdown",
   "metadata": {},
   "source": [
    "* What is the maximum daily re-payment people manage to pay back?\n",
    "\n",
    "  A: The maximum daily re-payment people manage to pay back when people choose term **7**: $142.86. \n",
    "  \n",
    "  A: The maximum daily re-payment people manage to pay back when people choose term **15**: $66.67. \n",
    "  \n",
    "  A: The maximum daily re-payment people manage to pay back when people choose term **30**: $33.33\n",
    "___"
   ]
  },
  {
   "cell_type": "markdown",
   "metadata": {},
   "source": [
    "* What is the average daily re-payment people manage to pay back?\n",
    "\n",
    "  A: The average daily re-payment people manage to pay back when people choose term **7**: $107.48. \n",
    "  \n",
    "  A: The average daily re-payment people manage to pay back when people choose term **15**: $59.57. \n",
    "  \n",
    "  A: The average daily re-payment people manage to pay back when people choose term **30**: $33.19\n",
    "___"
   ]
  },
  {
   "cell_type": "markdown",
   "metadata": {},
   "source": [
    "* Based on the previous 2 analysis, borrowers tend to borrow more money when they choose **term 7**. In other words, they have more burden. We also can see from the above analysis that even though choose **term 7** and the **average** daily re-payment slightly lower than **maximum** daily re-payment, borrowers still need to pay daily re-payment more than other terms. It indicates that most people still choose higher principal when they also choose term 7.\n",
    "___"
   ]
  },
  {
   "cell_type": "markdown",
   "metadata": {},
   "source": [
    "* One of an interesting things is that the percentage of borrowers with whatever degree who pay off their loan are about the same. In other words, the likelihood of loan repayment doesn't seem to vary based on the education level of the borrowers. Before I really dig into the data, I thought higher education people would have higher percentage pay off rate.  \n"
   ]
  },
  {
   "cell_type": "markdown",
   "metadata": {},
   "source": [
    "## Predictive analytics"
   ]
  },
  {
   "cell_type": "markdown",
   "metadata": {},
   "source": [
    "**Choose _4 different classifiers_ to make the models and based on the accuracy to choose the best one.**"
   ]
  },
  {
   "cell_type": "code",
   "execution_count": 573,
   "metadata": {
    "scrolled": true
   },
   "outputs": [],
   "source": [
    "from sklearn.model_selection import train_test_split\n",
    "\n",
    "from sklearn.linear_model import LogisticRegression\n",
    "from sklearn.tree import DecisionTreeClassifier\n",
    "from sklearn.ensemble import RandomForestClassifier\n",
    "from sklearn.neighbors import KNeighborsClassifier\n",
    "\n",
    "from sklearn.model_selection import GridSearchCV\n",
    "\n",
    "from sklearn.cross_validation import cross_val_score"
   ]
  },
  {
   "cell_type": "code",
   "execution_count": 594,
   "metadata": {},
   "outputs": [],
   "source": [
    "X = loandf_copy.drop(['loan_status'], axis=1)\n",
    "y = loandf_copy['loan_status']\n",
    "\n",
    "X_train, X_test, y_train, y_test = train_test_split(X, y, test_size=0.3, random_state=101)"
   ]
  },
  {
   "cell_type": "markdown",
   "metadata": {},
   "source": [
    "**In a real-life model, we split dataset into two: _cross-validation_ and _test datasets_   (hold-out test dataset). Reserve 30% of the dataset for final performance testing.**"
   ]
  },
  {
   "cell_type": "code",
   "execution_count": 595,
   "metadata": {},
   "outputs": [
    {
     "name": "stdout",
     "output_type": "stream",
     "text": [
      "DecisionTreeClassifier {'max_depth': 1, 'max_features': 1} 0.57681\n",
      "RandomForestClassifier {'max_depth': 4, 'max_features': 3} 0.57971\n",
      "KNeighborsClassifier {'n_neighbors': 2} 0.51304\n"
     ]
    }
   ],
   "source": [
    "import warnings\n",
    "warnings.filterwarnings(\"ignore\")\n",
    "\n",
    "max_depths = np.arange(1, X.shape[1] + 1)\n",
    "\n",
    "\n",
    "param_grid1 = {'max_depth': max_depths,'max_features': max_depths}\n",
    "param_grid2 = {'max_depth': max_depths,'max_features': max_depths}\n",
    "param_grid3 = {\"n_neighbors\" : max_depths}\n",
    "\n",
    "\n",
    "param_grids = [param_grid1, param_grid2, param_grid3]\n",
    "models = [DecisionTreeClassifier, RandomForestClassifier, KNeighborsClassifier]\n",
    "\n",
    "for model, param in zip(models, param_grids):\n",
    "\n",
    "    grid = GridSearchCV(model(), param, cv = 10, scoring= \"accuracy\")\n",
    "    grid.fit(X_train, y_train)\n",
    "    \n",
    "    print(model.__name__, grid.best_params_, round(grid.best_score_,5))"
   ]
  },
  {
   "cell_type": "code",
   "execution_count": 597,
   "metadata": {},
   "outputs": [
    {
     "name": "stdout",
     "output_type": "stream",
     "text": [
      "Accuracy for LogisticRegression is 0.577\n"
     ]
    }
   ],
   "source": [
    "acc_of_model = cross_val_score(LogisticRegression(), X_train, y_train, cv=10, scoring='accuracy').mean()\n",
    "\n",
    "print(\"Accuracy for LogisticRegression is\", round(acc_of_model,5))  "
   ]
  },
  {
   "cell_type": "markdown",
   "metadata": {},
   "source": [
    "For DecisionTreeClassifier, I choose parameters **max_depth** and **max_features**.\n",
    "\n",
    "For RandomForestClassifier, I choose parameters **max_depth** and **max_features**.\n",
    "\n",
    "For KNeighborsClassifier, I choose parameter **n_neighbors**.\n",
    "\n",
    "---\n",
    "\n",
    "After I run the models above, **RandomForestClassifier** gives the slightly higher accuracy than other models. I would use RandomForestClassifier model in this dataset."
   ]
  },
  {
   "cell_type": "markdown",
   "metadata": {},
   "source": [
    "**Refit the model with the best score using the parameters found on the whole CV dataset and measure the performance on the hold-out test dataset.**"
   ]
  },
  {
   "cell_type": "code",
   "execution_count": 581,
   "metadata": {},
   "outputs": [
    {
     "name": "stdout",
     "output_type": "stream",
     "text": [
      "The accuracy: 0.65\n"
     ]
    }
   ],
   "source": [
    "from sklearn.metrics import accuracy_score\n",
    "\n",
    "rf = RandomForestClassifier(max_depth = 2, max_features = 3)\n",
    "rf.fit(X_train, y_train)\n",
    "rf_pred_test = rf.predict(X_test)\n",
    "\n",
    "print(\"The accuracy:\", round(accuracy_score(y_test, rf_pred_test),2))"
   ]
  },
  {
   "cell_type": "markdown",
   "metadata": {},
   "source": [
    "In the previous stage, we fit the CV dataset in the model and we get the accuracy 58%. Now, we predict the testing dataset and get the accuracy 65%. Generally, the accuracy should be slightly lower after we predict the testing set since the test dataset (hold out test dataset) is the new dataset that the model have never seen before. In our case, the accuracy is not significantly higher so it should be fine."
   ]
  },
  {
   "cell_type": "markdown",
   "metadata": {},
   "source": [
    "**Predict a person who is going to pay off the loan or not: Principal=800, terms=15, age=30, male=0, High School or Below=1, Master or Above=0, college=0.**"
   ]
  },
  {
   "cell_type": "code",
   "execution_count": 586,
   "metadata": {},
   "outputs": [
    {
     "name": "stdout",
     "output_type": "stream",
     "text": [
      "Prediction: [0]\n"
     ]
    }
   ],
   "source": [
    "new_data = np.array([800, 15, 30, 0, 1, 0, 0]).reshape((1,7))\n",
    "\n",
    "print(\"Prediction:\", rf.predict(new_data))"
   ]
  },
  {
   "cell_type": "markdown",
   "metadata": {},
   "source": [
    "Notice in the above predictve model:\n",
    "\n",
    "The output shows that this person is going to pay off his/her loan based on the data he/she gives us."
   ]
  }
 ],
 "metadata": {
  "kernelspec": {
   "display_name": "Python 3",
   "language": "python",
   "name": "python3"
  },
  "language_info": {
   "codemirror_mode": {
    "name": "ipython",
    "version": 3
   },
   "file_extension": ".py",
   "mimetype": "text/x-python",
   "name": "python",
   "nbconvert_exporter": "python",
   "pygments_lexer": "ipython3",
   "version": "3.6.4"
  }
 },
 "nbformat": 4,
 "nbformat_minor": 2
}
